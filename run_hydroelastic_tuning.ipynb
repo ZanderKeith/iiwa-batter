{
 "cells": [
  {
   "cell_type": "code",
   "execution_count": 52,
   "metadata": {},
   "outputs": [
    {
     "name": "stdout",
     "output_type": "stream",
     "text": [
      "The autoreload extension is already loaded. To reload it, use:\n",
      "  %reload_ext autoreload\n"
     ]
    }
   ],
   "source": [
    "%load_ext autoreload\n",
    "%autoreload 2\n",
    "\n",
    "from pydrake.geometry import StartMeshcat\n",
    "\n",
    "from iiwa_batter.sandbox.hydroelastic_tuning import run_hydroelastic_tuning\n",
    "from iiwa_batter.assets.make_assets import write_assets"
   ]
  },
  {
   "cell_type": "code",
   "execution_count": 2,
   "metadata": {},
   "outputs": [
    {
     "name": "stderr",
     "output_type": "stream",
     "text": [
      "INFO:drake:Meshcat listening for connections at http://localhost:7000\n"
     ]
    }
   ],
   "source": [
    "meshcat = StartMeshcat()"
   ]
  },
  {
   "cell_type": "code",
   "execution_count": 108,
   "metadata": {},
   "outputs": [
    {
     "name": "stderr",
     "output_type": "stream",
     "text": [
      "WARNING:drake://home/zkeith/proj/slugger/iiwa-batter/iiwa_batter/assets/bat.sdf: warning: Rigid geometries defined with the tag drake:rigid_hydroelastic should not contain the tag drake:hydroelastic_modulus. The specified value (1200000000000) will be ignored.\n",
      "WARNING:drake://home/zkeith/proj/slugger/iiwa-batter/iiwa_batter/assets/ball.sdf: warning: Rigid geometries defined with the tag drake:rigid_hydroelastic should not contain the tag drake:hydroelastic_modulus. The specified value (6.9e+16) will be ignored.\n"
     ]
    },
    {
     "data": {
      "text/plain": [
       "0.01359883126224638"
      ]
     },
     "execution_count": 108,
     "metadata": {},
     "output_type": "execute_result"
    }
   ],
   "source": [
    "bat_modulus = 1.2e12\n",
    "ball_modulus = 69e15\n",
    "mu_dynamic = 0.5\n",
    "write_assets(bat_modulus, ball_modulus, 0.001, 0.01, mu_dynamic, 0)\n",
    "run_hydroelastic_tuning(meshcat, [1, 0, 0], -20, dt=0.001, record_time=0.2, debug_plot=False)"
   ]
  }
 ],
 "metadata": {
  "kernelspec": {
   "display_name": ".venv",
   "language": "python",
   "name": "python3"
  },
  "language_info": {
   "codemirror_mode": {
    "name": "ipython",
    "version": 3
   },
   "file_extension": ".py",
   "mimetype": "text/x-python",
   "name": "python",
   "nbconvert_exporter": "python",
   "pygments_lexer": "ipython3",
   "version": "3.12.3"
  }
 },
 "nbformat": 4,
 "nbformat_minor": 2
}
