{
 "cells": [
  {
   "cell_type": "code",
   "execution_count": 2,
   "metadata": {},
   "outputs": [],
   "source": [
    "%load_ext autoreload\n",
    "%autoreload 2\n",
    "\n",
    "from pydrake.geometry import StartMeshcat\n",
    "\n",
    "from iiwa_batter.sandbox.hydroelastic_tuning import run_hydroelastic_tuning\n",
    "from iiwa_batter.assets.make_assets import write_assets\n",
    "from iiwa_batter import DEFAULT_TIMESTEP"
   ]
  },
  {
   "cell_type": "code",
   "execution_count": null,
   "metadata": {},
   "outputs": [],
   "source": [
    "meshcat = StartMeshcat()"
   ]
  },
  {
   "cell_type": "code",
   "execution_count": null,
   "metadata": {},
   "outputs": [
    {
     "ename": "NameError",
     "evalue": "name 'DEFAULT_TIMESTEP' is not defined",
     "output_type": "error",
     "traceback": [
      "\u001b[0;31m---------------------------------------------------------------------------\u001b[0m",
      "\u001b[0;31mNameError\u001b[0m                                 Traceback (most recent call last)",
      "Cell \u001b[0;32mIn[1], line 7\u001b[0m\n\u001b[1;32m      5\u001b[0m mu_dynamic \u001b[38;5;241m=\u001b[39m \u001b[38;5;241m0.5\u001b[39m\n\u001b[1;32m      6\u001b[0m rigid_bat \u001b[38;5;241m=\u001b[39m \u001b[38;5;28;01mFalse\u001b[39;00m\n\u001b[0;32m----> 7\u001b[0m dt \u001b[38;5;241m=\u001b[39m \u001b[43mDEFAULT_TIMESTEP\u001b[49m\n\u001b[1;32m      8\u001b[0m write_assets(bat_modulus, ball_modulus, \u001b[38;5;241m1e-3\u001b[39m, \u001b[38;5;241m1e-3\u001b[39m, mu_dynamic, \u001b[38;5;241m0.014\u001b[39m, rigid_bat)\n\u001b[1;32m     10\u001b[0m \u001b[38;5;66;03m#velocities = np.linspace(20, 60, 9)\u001b[39;00m\n",
      "\u001b[0;31mNameError\u001b[0m: name 'DEFAULT_TIMESTEP' is not defined"
     ]
    }
   ],
   "source": [
    "import numpy as np\n",
    "\n",
    "bat_modulus = 1.2e12\n",
    "ball_modulus = 6e9\n",
    "mu_dynamic = 0.5\n",
    "rigid_bat = False\n",
    "dt = DEFAULT_TIMESTEP\n",
    "write_assets(bat_modulus, ball_modulus, 1e-3, 1e-3, mu_dynamic, 0.014, rigid_bat)\n",
    "\n",
    "#velocities = np.linspace(20, 60, 9)\n",
    "velocities = np.linspace(10, 110, 21)\n",
    "\n",
    "velocity_results = {}\n",
    "for velocity in velocities:\n",
    "    cor, ball_x_positions, ball_x_velocities, times = run_hydroelastic_tuning(meshcat, [1, 0, 0], -1*velocity, dt=dt, record_time=0.2, debug_plot=False)\n",
    "    velocity_results[velocity] = {\n",
    "        \"cor\": cor,\n",
    "        \"ball_x_positions\": ball_x_positions,\n",
    "        \"ball_x_velocities\": ball_x_velocities,\n",
    "        \"times\": times,\n",
    "    }\n"
   ]
  },
  {
   "cell_type": "code",
   "execution_count": null,
   "metadata": {},
   "outputs": [],
   "source": [
    "import matplotlib.pyplot as plt\n",
    "\n",
    "fig, axes = plt.subplots(2, 1, figsize=(10, 6), sharex=True)\n",
    "\n",
    "for velocity, result in velocity_results.items():\n",
    "    ball_x_positions = result[\"ball_x_positions\"]\n",
    "    ball_x_velocities = result[\"ball_x_velocities\"]\n",
    "    times = result[\"times\"]\n",
    "    axes[0].plot(times, ball_x_positions, label=f\"velocity: {velocity}\")\n",
    "    axes[1].plot(times, ball_x_velocities, label=f\"velocity: {velocity}\")\n",
    "\n",
    "axes[0].set_ylabel(\"ball x positions [m]\")\n",
    "axes[0].set_xlabel(\"time [s]\")\n",
    "axes[0].grid(True)\n",
    "axes[0].set_ylim([0, 1])\n",
    "axes[1].set_ylabel(\"ball x velocities [m/s]\")\n",
    "axes[1].set_xlabel(\"time [s]\")\n",
    "axes[1].grid(True)\n",
    "\n",
    "axes[0].legend()\n",
    "\n",
    "axes[0].set_title(f\"Ball trajectory with dt: {dt:.0e}s\")\n",
    "\n",
    "fig.savefig(f\"notebook_images/hydroelastic_tuning/ball_trajectory_hydroelastic_tuning_dt_{dt:.0e}.png\")\n"
   ]
  },
  {
   "cell_type": "code",
   "execution_count": null,
   "metadata": {},
   "outputs": [],
   "source": [
    "# Plot the coefficient of restitution for each velocity\n",
    "velocities = np.array(list(velocity_results.keys()))\n",
    "cors = np.array([result[\"cor\"] for result in velocity_results.values()])\n",
    "\n",
    "fig, ax = plt.subplots()\n",
    "ax.plot(velocities, cors, marker=\"o\", label=\"Measured CoR\")\n",
    "ax.set_xlabel(\"velocity [m/s]\")\n",
    "ax.set_ylabel(\"CCOR\")\n",
    "ax.grid(True)\n",
    "# Put a vertical line at 26.8224 m/s\n",
    "ax.axvline(26.8224, color=\"red\", linestyle=\"--\", label=\"60 mph\")\n",
    "# Put a horizontal line at 0.546\n",
    "ax.axhline(0.546, color=\"black\", linestyle=\"--\", label=\"Regulation CCoR\")\n",
    "ax.set_title(\"Cylindrical Coefficient of Restitution vs Velocity\")\n",
    "ax.legend()\n",
    "\n",
    "fig.savefig(f\"notebook_images/hydroelastic_tuning/ccor_vs_velocity_hydroelastic_tuning_dt_{dt:.0e}.png\")"
   ]
  }
 ],
 "metadata": {
  "kernelspec": {
   "display_name": ".venv",
   "language": "python",
   "name": "python3"
  },
  "language_info": {
   "codemirror_mode": {
    "name": "ipython",
    "version": 3
   },
   "file_extension": ".py",
   "mimetype": "text/x-python",
   "name": "python",
   "nbconvert_exporter": "python",
   "pygments_lexer": "ipython3",
   "version": "3.11.10"
  }
 },
 "nbformat": 4,
 "nbformat_minor": 2
}
