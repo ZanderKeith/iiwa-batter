{
 "cells": [
  {
   "cell_type": "code",
   "execution_count": 6,
   "metadata": {},
   "outputs": [
    {
     "name": "stdout",
     "output_type": "stream",
     "text": [
      "The autoreload extension is already loaded. To reload it, use:\n",
      "  %reload_ext autoreload\n"
     ]
    }
   ],
   "source": [
    "%load_ext autoreload\n",
    "%autoreload 2\n",
    "\n",
    "from pydrake.geometry import StartMeshcat\n",
    "\n",
    "from iiwa_batter.sandbox.hydroelastic_tuning import run_hydroelastic_tuning\n",
    "from iiwa_batter.assets.make_assets import write_assets\n",
    "from iiwa_batter import DEFAULT_TIMESTEP"
   ]
  },
  {
   "cell_type": "code",
   "execution_count": 7,
   "metadata": {},
   "outputs": [
    {
     "name": "stderr",
     "output_type": "stream",
     "text": [
      "INFO:drake:Meshcat listening for connections at http://localhost:7002\n"
     ]
    }
   ],
   "source": [
    "meshcat = StartMeshcat()"
   ]
  },
  {
   "cell_type": "code",
   "execution_count": 8,
   "metadata": {},
   "outputs": [
    {
     "ename": "KeyboardInterrupt",
     "evalue": "",
     "output_type": "error",
     "traceback": [
      "\u001b[0;31m---------------------------------------------------------------------------\u001b[0m",
      "\u001b[0;31mKeyboardInterrupt\u001b[0m                         Traceback (most recent call last)",
      "Cell \u001b[0;32mIn[8], line 15\u001b[0m\n\u001b[1;32m     13\u001b[0m velocity_results \u001b[38;5;241m=\u001b[39m {}\n\u001b[1;32m     14\u001b[0m \u001b[38;5;28;01mfor\u001b[39;00m velocity \u001b[38;5;129;01min\u001b[39;00m velocities:\n\u001b[0;32m---> 15\u001b[0m     cor, ball_x_positions, ball_x_velocities, times \u001b[38;5;241m=\u001b[39m \u001b[43mrun_hydroelastic_tuning\u001b[49m\u001b[43m(\u001b[49m\u001b[43mmeshcat\u001b[49m\u001b[43m,\u001b[49m\u001b[43m \u001b[49m\u001b[43m[\u001b[49m\u001b[38;5;241;43m1\u001b[39;49m\u001b[43m,\u001b[49m\u001b[43m \u001b[49m\u001b[38;5;241;43m0\u001b[39;49m\u001b[43m,\u001b[49m\u001b[43m \u001b[49m\u001b[38;5;241;43m0\u001b[39;49m\u001b[43m]\u001b[49m\u001b[43m,\u001b[49m\u001b[43m \u001b[49m\u001b[38;5;241;43m-\u001b[39;49m\u001b[38;5;241;43m1\u001b[39;49m\u001b[38;5;241;43m*\u001b[39;49m\u001b[43mvelocity\u001b[49m\u001b[43m,\u001b[49m\u001b[43m \u001b[49m\u001b[43mdt\u001b[49m\u001b[38;5;241;43m=\u001b[39;49m\u001b[43mdt\u001b[49m\u001b[43m,\u001b[49m\u001b[43m \u001b[49m\u001b[43mrecord_time\u001b[49m\u001b[38;5;241;43m=\u001b[39;49m\u001b[38;5;241;43m0.2\u001b[39;49m\u001b[43m,\u001b[49m\u001b[43m \u001b[49m\u001b[43mdebug_plot\u001b[49m\u001b[38;5;241;43m=\u001b[39;49m\u001b[38;5;28;43;01mFalse\u001b[39;49;00m\u001b[43m)\u001b[49m\n\u001b[1;32m     16\u001b[0m     velocity_results[velocity] \u001b[38;5;241m=\u001b[39m {\n\u001b[1;32m     17\u001b[0m         \u001b[38;5;124m\"\u001b[39m\u001b[38;5;124mcor\u001b[39m\u001b[38;5;124m\"\u001b[39m: cor,\n\u001b[1;32m     18\u001b[0m         \u001b[38;5;124m\"\u001b[39m\u001b[38;5;124mball_x_positions\u001b[39m\u001b[38;5;124m\"\u001b[39m: ball_x_positions,\n\u001b[1;32m     19\u001b[0m         \u001b[38;5;124m\"\u001b[39m\u001b[38;5;124mball_x_velocities\u001b[39m\u001b[38;5;124m\"\u001b[39m: ball_x_velocities,\n\u001b[1;32m     20\u001b[0m         \u001b[38;5;124m\"\u001b[39m\u001b[38;5;124mtimes\u001b[39m\u001b[38;5;124m\"\u001b[39m: times,\n\u001b[1;32m     21\u001b[0m     }\n",
      "File \u001b[0;32m~/hackathon/iiwa-batter/iiwa_batter/sandbox/hydroelastic_tuning.py:56\u001b[0m, in \u001b[0;36mrun_hydroelastic_tuning\u001b[0;34m(meshcat, ball_pos, ball_velocity_x, record_time, dt, debug_plot)\u001b[0m\n\u001b[1;32m     53\u001b[0m model_directive \u001b[38;5;241m=\u001b[39m make_model_directive(ball_pos, dt)\n\u001b[1;32m     55\u001b[0m scenario \u001b[38;5;241m=\u001b[39m LoadScenario(data\u001b[38;5;241m=\u001b[39mmodel_directive)\n\u001b[0;32m---> 56\u001b[0m station \u001b[38;5;241m=\u001b[39m builder\u001b[38;5;241m.\u001b[39mAddSystem(\u001b[43mMakeHardwareStation\u001b[49m\u001b[43m(\u001b[49m\u001b[43mscenario\u001b[49m\u001b[43m,\u001b[49m\u001b[43m \u001b[49m\u001b[43mmeshcat\u001b[49m\u001b[43m)\u001b[49m)\n\u001b[1;32m     57\u001b[0m diagram \u001b[38;5;241m=\u001b[39m builder\u001b[38;5;241m.\u001b[39mBuild()\n\u001b[1;32m     58\u001b[0m simulator \u001b[38;5;241m=\u001b[39m Simulator(diagram)\n",
      "File \u001b[0;32m~/hackathon/iiwa-batter/.venv/lib/python3.11/site-packages/manipulation/station.py:975\u001b[0m, in \u001b[0;36mMakeHardwareStation\u001b[0;34m(scenario, meshcat, package_xmls, hardware, parser_preload_callback, parser_prefinalize_callback, prebuild_callback)\u001b[0m\n\u001b[1;32m    972\u001b[0m     parser_preload_callback(parser)\n\u001b[1;32m    974\u001b[0m \u001b[38;5;66;03m# Add model directives.\u001b[39;00m\n\u001b[0;32m--> 975\u001b[0m added_models \u001b[38;5;241m=\u001b[39m \u001b[43mProcessModelDirectives\u001b[49m\u001b[43m(\u001b[49m\n\u001b[1;32m    976\u001b[0m \u001b[43m    \u001b[49m\u001b[43mdirectives\u001b[49m\u001b[38;5;241;43m=\u001b[39;49m\u001b[43mModelDirectives\u001b[49m\u001b[43m(\u001b[49m\u001b[43mdirectives\u001b[49m\u001b[38;5;241;43m=\u001b[39;49m\u001b[43mscenario\u001b[49m\u001b[38;5;241;43m.\u001b[39;49m\u001b[43mdirectives\u001b[49m\u001b[43m)\u001b[49m\u001b[43m,\u001b[49m\n\u001b[1;32m    977\u001b[0m \u001b[43m    \u001b[49m\u001b[43mparser\u001b[49m\u001b[38;5;241;43m=\u001b[39;49m\u001b[43mparser\u001b[49m\u001b[43m,\u001b[49m\n\u001b[1;32m    978\u001b[0m \u001b[43m\u001b[49m\u001b[43m)\u001b[49m\n\u001b[1;32m    980\u001b[0m \u001b[38;5;28;01mif\u001b[39;00m parser_prefinalize_callback:\n\u001b[1;32m    981\u001b[0m     parser_prefinalize_callback(parser)\n",
      "\u001b[0;31mKeyboardInterrupt\u001b[0m: "
     ]
    }
   ],
   "source": [
    "import numpy as np\n",
    "\n",
    "bat_modulus = 1.2e12\n",
    "ball_modulus = 6e9\n",
    "mu_dynamic = 0.5\n",
    "rigid_bat = False\n",
    "dt = DEFAULT_TIMESTEP\n",
    "write_assets(bat_modulus, ball_modulus, 1e-3, 1e-3, mu_dynamic, 0.014, rigid_bat)\n",
    "\n",
    "#velocities = np.linspace(20, 60, 9)\n",
    "velocities = np.linspace(10, 110, 21)\n",
    "\n",
    "velocity_results = {}\n",
    "for velocity in velocities:\n",
    "    cor, ball_x_positions, ball_x_velocities, times = run_hydroelastic_tuning(meshcat, [1, 0, 0], -1*velocity, dt=dt, record_time=0.2, debug_plot=False)\n",
    "    velocity_results[velocity] = {\n",
    "        \"cor\": cor,\n",
    "        \"ball_x_positions\": ball_x_positions,\n",
    "        \"ball_x_velocities\": ball_x_velocities,\n",
    "        \"times\": times,\n",
    "    }\n"
   ]
  },
  {
   "cell_type": "code",
   "execution_count": null,
   "metadata": {},
   "outputs": [],
   "source": [
    "import matplotlib.pyplot as plt\n",
    "\n",
    "fig, axes = plt.subplots(2, 1, figsize=(10, 6), sharex=True)\n",
    "\n",
    "for velocity, result in velocity_results.items():\n",
    "    ball_x_positions = result[\"ball_x_positions\"]\n",
    "    ball_x_velocities = result[\"ball_x_velocities\"]\n",
    "    times = result[\"times\"]\n",
    "    axes[0].plot(times, ball_x_positions, label=f\"velocity: {velocity}\")\n",
    "    axes[1].plot(times, ball_x_velocities, label=f\"velocity: {velocity}\")\n",
    "\n",
    "axes[0].set_ylabel(\"ball x positions [m]\")\n",
    "axes[0].set_xlabel(\"time [s]\")\n",
    "axes[0].grid(True)\n",
    "axes[0].set_ylim([0, 1])\n",
    "axes[1].set_ylabel(\"ball x velocities [m/s]\")\n",
    "axes[1].set_xlabel(\"time [s]\")\n",
    "axes[1].grid(True)\n",
    "\n",
    "axes[0].legend()\n",
    "\n",
    "axes[0].set_title(f\"Ball trajectory with dt: {dt:.0e}s\")\n",
    "\n",
    "fig.savefig(f\"notebook_images/hydroelastic_tuning/ball_trajectory_hydroelastic_tuning_dt_{dt:.0e}.png\")\n"
   ]
  },
  {
   "cell_type": "code",
   "execution_count": null,
   "metadata": {},
   "outputs": [],
   "source": [
    "# Plot the coefficient of restitution for each velocity\n",
    "velocities = np.array(list(velocity_results.keys()))\n",
    "cors = np.array([result[\"cor\"] for result in velocity_results.values()])\n",
    "\n",
    "fig, ax = plt.subplots()\n",
    "ax.plot(velocities, cors, marker=\"o\", label=\"Measured CoR\")\n",
    "ax.set_xlabel(\"velocity [m/s]\")\n",
    "ax.set_ylabel(\"CCOR\")\n",
    "ax.grid(True)\n",
    "# Put a vertical line at 26.8224 m/s\n",
    "ax.axvline(26.8224, color=\"red\", linestyle=\"--\", label=\"60 mph\")\n",
    "# Put a horizontal line at 0.546\n",
    "ax.axhline(0.546, color=\"black\", linestyle=\"--\", label=\"Regulation CCoR\")\n",
    "ax.set_title(\"Cylindrical Coefficient of Restitution vs Velocity\")\n",
    "ax.legend()\n",
    "\n",
    "fig.savefig(f\"notebook_images/hydroelastic_tuning/ccor_vs_velocity_hydroelastic_tuning_dt_{dt:.0e}.png\")"
   ]
  }
 ],
 "metadata": {
  "kernelspec": {
   "display_name": ".venv",
   "language": "python",
   "name": "python3"
  },
  "language_info": {
   "codemirror_mode": {
    "name": "ipython",
    "version": 3
   },
   "file_extension": ".py",
   "mimetype": "text/x-python",
   "name": "python",
   "nbconvert_exporter": "python",
   "pygments_lexer": "ipython3",
   "version": "3.11.10"
  }
 },
 "nbformat": 4,
 "nbformat_minor": 2
}
