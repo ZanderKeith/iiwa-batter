{
 "cells": [
  {
   "cell_type": "code",
   "execution_count": null,
   "metadata": {},
   "outputs": [],
   "source": [
    "%load_ext autoreload\n",
    "%autoreload 2\n",
    "\n",
    "import numpy as np\n",
    "import dill\n",
    "from pydrake.geometry import StartMeshcat\n",
    "\n",
    "from iiwa_batter import PACKAGE_ROOT, CONTROL_DT, PITCH_DT, CONTACT_DT, NUM_JOINTS\n",
    "from iiwa_batter.robot_constraints.get_joint_constraints import JOINT_CONSTRAINTS\n",
    "from iiwa_batter.physics import find_ball_initial_velocity, PITCH_START_POSITION, FLIGHT_TIME_MULTIPLE\n",
    "from iiwa_batter.save_load import load_control_vector_trajectory, load_dataviewer_trajectory\n",
    "\n",
    "from iiwa_batter.swing_simulator import setup_simulator, run_swing_simulation, reset_systems\n",
    "from iiwa_batter.swing_optimization.stochastic_gradient_descent import make_torque_trajectory\n",
    "from iiwa_batter.swing_optimization.full_trajectory import full_trajectory_reward"
   ]
  },
  {
   "cell_type": "code",
   "execution_count": null,
   "metadata": {},
   "outputs": [],
   "source": [
    "meshcat = StartMeshcat()"
   ]
  },
  {
   "cell_type": "code",
   "execution_count": null,
   "metadata": {},
   "outputs": [],
   "source": [
    "robot_constraints = JOINT_CONSTRAINTS[\"iiwa14\"]\n",
    "\n",
    "simulator, diagram = setup_simulator(torque_trajectory={0:np.ones(NUM_JOINTS)*40}, dt=PITCH_DT, add_contact=False, robot_constraints=robot_constraints, meshcat=meshcat)\n",
    "\n",
    "status_dict = run_swing_simulation(\n",
    "    simulator=simulator,\n",
    "    diagram=diagram,\n",
    "    start_time=0,\n",
    "    end_time=4.0,\n",
    "    initial_joint_positions=np.array([0] * NUM_JOINTS),\n",
    "    initial_joint_velocities=np.array([0] * NUM_JOINTS),\n",
    "    initial_ball_position=PITCH_START_POSITION,\n",
    "    initial_ball_velocity=np.zeros(3),\n",
    "    meshcat=meshcat,\n",
    "    record_state=True,\n",
    ")"
   ]
  },
  {
   "cell_type": "code",
   "execution_count": null,
   "metadata": {},
   "outputs": [],
   "source": [
    "#setup_simulator(dt=CONTACT_DT, meshcat=None)"
   ]
  },
  {
   "cell_type": "code",
   "execution_count": null,
   "metadata": {},
   "outputs": [],
   "source": [
    "torque_trajectory={\n",
    "    0: np.ones(NUM_JOINTS)*-40,\n",
    "    1: np.ones(NUM_JOINTS)*40\n",
    "}\n",
    "\n",
    "simulator, diagram = setup_simulator(torque_trajectory, dt=PITCH_DT, add_contact=True, meshcat=meshcat)\n",
    "\n",
    "from iiwa_batter.swing_optimization.stochastic_gradient_descent import find_initial_positions\n",
    "\n",
    "initial_joint_positions = find_initial_positions(simulator, diagram, robot_constraints, 1)\n",
    "\n",
    "reset_systems(diagram)\n",
    "\n",
    "run_swing_simulation(\n",
    "    simulator=simulator,\n",
    "    diagram=diagram,\n",
    "    start_time=0,\n",
    "    end_time=2*CONTACT_DT,\n",
    "    initial_joint_positions=np.array([0] * NUM_JOINTS),\n",
    "    initial_joint_velocities=np.array([0] * NUM_JOINTS),\n",
    "    initial_ball_position=PITCH_START_POSITION,\n",
    "    initial_ball_velocity=np.zeros(3),\n",
    "    meshcat=meshcat,\n",
    ")\n"
   ]
  },
  {
   "cell_type": "code",
   "execution_count": null,
   "metadata": {},
   "outputs": [],
   "source": [
    "\n",
    "trajectory_source = f\"{PACKAGE_ROOT}/swing_optimization/trajectories/naive_full_trajectory/simple_test_pitch_dt.dill\"\n",
    "\n",
    "with open(trajectory_source, \"rb\") as f:\n",
    "    results_dict = dill.load(f)\n",
    "\n",
    "initial_joint_positions = results_dict[\"best_initial_position\"]\n",
    "control_vector = results_dict[\"best_control_vector\"]\n",
    "\n",
    "robot_constraints = JOINT_CONSTRAINTS[\"iiwa14\"]\n",
    "torque_constraints = np.array([int(torque) for torque in robot_constraints[\"torque\"].values()])\n",
    "position_constraints_upper = np.array([joint[1] for joint in robot_constraints[\"joint_range\"].values()])\n",
    "position_constraints_lower = np.array([joint[0] for joint in robot_constraints[\"joint_range\"].values()])\n",
    "\n",
    "ball_initial_velocity, ball_time_of_flight = find_ball_initial_velocity(90, [0, 0, 0.6])\n",
    "trajectory_timesteps = np.arange(0, ball_time_of_flight+CONTROL_DT, CONTROL_DT)\n",
    "torque_trajectory = make_torque_trajectory(control_vector, trajectory_timesteps)\n",
    "simulator, diagram = setup_simulator(torque_trajectory, dt=PITCH_DT*10, meshcat=meshcat)\n",
    "\n",
    "status_dict = run_swing_simulation(\n",
    "    simulator=simulator,\n",
    "    diagram=diagram,\n",
    "    start_time=0,\n",
    "    end_time=ball_time_of_flight*FLIGHT_TIME_MULTIPLE,\n",
    "    initial_joint_positions=initial_joint_positions,\n",
    "    initial_joint_velocities=np.array([0] * NUM_JOINTS),\n",
    "    initial_ball_position=PITCH_START_POSITION,\n",
    "    initial_ball_velocity=ball_initial_velocity,\n",
    "    meshcat=meshcat,\n",
    ")\n",
    "\n",
    "print(status_dict)\n",
    "\n",
    "reward = full_trajectory_reward(\n",
    "    simulator,\n",
    "    diagram,\n",
    "    initial_joint_positions,\n",
    "    control_vector,\n",
    "    ball_initial_velocity,\n",
    "    ball_time_of_flight,\n",
    ")\n",
    "\n",
    "print(reward)\n",
    "\n"
   ]
  }
 ],
 "metadata": {
  "kernelspec": {
   "display_name": ".venv",
   "language": "python",
   "name": "python3"
  },
  "language_info": {
   "codemirror_mode": {
    "name": "ipython",
    "version": 3
   },
   "file_extension": ".py",
   "mimetype": "text/x-python",
   "name": "python",
   "nbconvert_exporter": "python",
   "pygments_lexer": "ipython3",
   "version": "3.11.10"
  }
 },
 "nbformat": 4,
 "nbformat_minor": 2
}
