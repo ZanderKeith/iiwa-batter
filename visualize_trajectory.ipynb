{
 "cells": [
  {
   "cell_type": "code",
   "execution_count": 1,
   "metadata": {},
   "outputs": [
    {
     "name": "stdout",
     "output_type": "stream",
     "text": [
      "Loaded joint constraints for KUKA robots\n"
     ]
    }
   ],
   "source": [
    "%load_ext autoreload\n",
    "%autoreload 2\n",
    "\n",
    "import numpy as np\n",
    "import dill\n",
    "from pydrake.geometry import StartMeshcat\n",
    "\n",
    "from iiwa_batter import PACKAGE_ROOT, CONTROL_DT, PITCH_DT, CONTACT_DT, NUM_JOINTS\n",
    "from iiwa_batter.robot_constraints.get_joint_constraints import JOINT_CONSTRAINTS\n",
    "from iiwa_batter.physics import (\n",
    "    PITCH_START_POSITION,\n",
    "    FLIGHT_TIME_MULTIPLE,\n",
    "    find_ball_initial_velocity,\n",
    ")\n",
    "from iiwa_batter.trajectory_library import LIBRARY_POSITIONS, LIBRARY_SPEEDS_MPH\n",
    "\n",
    "from iiwa_batter.swing_simulator import setup_simulator, run_swing_simulation, reset_systems\n",
    "from iiwa_batter.swing_optimization.stochastic_gradient_descent import make_torque_trajectory\n",
    "from iiwa_batter.swing_optimization.full_trajectory import full_trajectory_reward\n",
    "from iiwa_batter.swing_optimization.swing_impact import calculate_plate_time_and_ball_state, dummy_torque_trajectory"
   ]
  },
  {
   "cell_type": "code",
   "execution_count": 2,
   "metadata": {},
   "outputs": [
    {
     "name": "stderr",
     "output_type": "stream",
     "text": [
      "INFO:drake:Meshcat listening for connections at http://localhost:7000\n"
     ]
    }
   ],
   "source": [
    "meshcat = StartMeshcat()"
   ]
  },
  {
   "cell_type": "code",
   "execution_count": null,
   "metadata": {},
   "outputs": [],
   "source": [
    "robot_constraints = JOINT_CONSTRAINTS[\"iiwa14\"]\n",
    "\n",
    "simulator, diagram = setup_simulator(torque_trajectory={0:np.ones(NUM_JOINTS)*40}, model_urdf=\"iiwa14\", dt=PITCH_DT, add_contact=False, robot_constraints=robot_constraints, meshcat=meshcat)\n",
    "\n",
    "status_dict = run_swing_simulation(\n",
    "    simulator=simulator,\n",
    "    diagram=diagram,\n",
    "    start_time=0,\n",
    "    end_time=4.0,\n",
    "    initial_joint_positions=np.array([0] * NUM_JOINTS),\n",
    "    initial_joint_velocities=np.array([0] * NUM_JOINTS),\n",
    "    initial_ball_position=PITCH_START_POSITION,\n",
    "    initial_ball_velocity=np.zeros(3),\n",
    "    meshcat=meshcat,\n",
    "    record_state=True,\n",
    ")"
   ]
  },
  {
   "cell_type": "code",
   "execution_count": null,
   "metadata": {},
   "outputs": [],
   "source": [
    "torque_trajectory={\n",
    "    0: np.ones(NUM_JOINTS)*-40,\n",
    "    1: np.ones(NUM_JOINTS)*40\n",
    "}\n",
    "\n",
    "simulator, diagram = setup_simulator(torque_trajectory, model_urdf=\"iiwa14\", dt=PITCH_DT, add_contact=True, meshcat=meshcat)\n",
    "\n",
    "from iiwa_batter.swing_optimization.stochastic_gradient_descent import find_initial_positions\n",
    "\n",
    "initial_joint_positions = find_initial_positions(simulator, diagram, robot_constraints, 1)\n",
    "\n",
    "reset_systems(diagram)\n",
    "\n",
    "run_swing_simulation(\n",
    "    simulator=simulator,\n",
    "    diagram=diagram,\n",
    "    start_time=0,\n",
    "    end_time=2*CONTACT_DT,\n",
    "    initial_joint_positions=np.array([0] * NUM_JOINTS),\n",
    "    initial_joint_velocities=np.array([0] * NUM_JOINTS),\n",
    "    initial_ball_position=PITCH_START_POSITION,\n",
    "    initial_ball_velocity=np.zeros(3),\n",
    "    meshcat=meshcat,\n",
    ")\n"
   ]
  },
  {
   "cell_type": "code",
   "execution_count": null,
   "metadata": {},
   "outputs": [],
   "source": [
    "robot = \"iiwa14\"\n",
    "optimization_name = \"fine\"\n",
    "LIBRARY_INDEX = 3\n",
    "save_directory = f\"{PACKAGE_ROOT}/../trajectories/{robot}/{90}_{LIBRARY_POSITIONS[LIBRARY_INDEX]}\"\n",
    "trajectory_source = f\"{save_directory}/{optimization_name}.dill\"\n",
    "\n",
    "with open(trajectory_source, \"rb\") as f:\n",
    "    results_dict = dill.load(f)\n",
    "\n",
    "initial_joint_positions = results_dict[\"best_initial_position\"]\n",
    "control_vector = results_dict[\"best_control_vector\"]\n",
    "dt = results_dict[\"optimized_dt\"]\n",
    "expected_reward = results_dict[\"final_best_reward\"]\n",
    "print(f\"Expected reward: {expected_reward}\")\n",
    "\n",
    "robot_constraints = JOINT_CONSTRAINTS[robot]\n",
    "\n",
    "ball_initial_velocity, ball_time_of_flight = find_ball_initial_velocity(90, LIBRARY_POSITIONS[LIBRARY_INDEX])\n",
    "torque_trajectory = make_torque_trajectory(control_vector, ball_time_of_flight)\n",
    "simulator, diagram = setup_simulator(torque_trajectory=torque_trajectory, model_urdf=robot, dt=dt, meshcat=meshcat, robot_constraints=robot_constraints)\n",
    "\n",
    "status_dict = run_swing_simulation(\n",
    "    simulator=simulator,\n",
    "    diagram=diagram,\n",
    "    start_time=0,\n",
    "    end_time=ball_time_of_flight+0.2,\n",
    "    initial_joint_positions=initial_joint_positions,\n",
    "    initial_joint_velocities=np.zeros(NUM_JOINTS),\n",
    "    initial_ball_position=PITCH_START_POSITION,\n",
    "    initial_ball_velocity=ball_initial_velocity,\n",
    "    meshcat=meshcat,\n",
    ")\n",
    "\n",
    "print(status_dict)\n",
    "\n",
    "# reward = full_trajectory_reward(\n",
    "#     simulator,\n",
    "#     diagram,\n",
    "#     initial_joint_positions,\n",
    "#     control_vector,\n",
    "#     ball_initial_velocity,\n",
    "#     ball_time_of_flight,\n",
    "# )\n",
    "\n",
    "# print(reward)\n",
    "\n"
   ]
  },
  {
   "cell_type": "code",
   "execution_count": null,
   "metadata": {},
   "outputs": [],
   "source": [
    "np.random.seed(0)\n",
    "\n",
    "robot = \"iiwa14\"\n",
    "target_velocity_mph = LIBRARY_SPEEDS_MPH[0]\n",
    "target_position = LIBRARY_POSITIONS[0]\n",
    "#optimization_name = \"test_save_load_consistency_single_swing_impact\"\n",
    "#save_directory = f\"{PACKAGE_ROOT}/tests/trajectories\"\n",
    "optimization_name = \"impact_1\"\n",
    "save_directory = f\"{PACKAGE_ROOT}/../trajectories/{robot}/{target_velocity_mph}_{target_position}\"\n",
    "test_dt = CONTACT_DT\n",
    "\n",
    "plate_time, plate_ball_postion, plate_ball_velocity = calculate_plate_time_and_ball_state(target_velocity_mph, target_position, test_dt)\n",
    "\n",
    "with open(f\"{save_directory}/{optimization_name}.dill\", \"rb\") as f:\n",
    "    results_dict = dill.load(f)\n",
    "\n",
    "initial_joint_positions = results_dict[\"best_joint_positions\"]\n",
    "initial_joint_velocities = results_dict[\"best_joint_velocities\"]\n",
    "simulator, diagram = setup_simulator(\n",
    "    torque_trajectory = dummy_torque_trajectory(plate_time),\n",
    "    model_urdf=robot,\n",
    "    dt=test_dt,\n",
    "    robot_constraints=JOINT_CONSTRAINTS[robot],\n",
    "    meshcat=meshcat\n",
    ")\n",
    "status_dict = run_swing_simulation(\n",
    "    simulator=simulator,\n",
    "    diagram=diagram,\n",
    "    start_time=plate_time,\n",
    "    end_time=max(dummy_torque_trajectory(plate_time).keys()),\n",
    "    initial_joint_positions=initial_joint_positions,\n",
    "    initial_joint_velocities=initial_joint_velocities,\n",
    "    initial_ball_position=plate_ball_postion,\n",
    "    initial_ball_velocity=plate_ball_velocity,\n",
    "    meshcat=meshcat,\n",
    ")"
   ]
  }
 ],
 "metadata": {
  "kernelspec": {
   "display_name": ".venv",
   "language": "python",
   "name": "python3"
  },
  "language_info": {
   "codemirror_mode": {
    "name": "ipython",
    "version": 3
   },
   "file_extension": ".py",
   "mimetype": "text/x-python",
   "name": "python",
   "nbconvert_exporter": "python",
   "pygments_lexer": "ipython3",
   "version": "3.11.10"
  }
 },
 "nbformat": 4,
 "nbformat_minor": 2
}
