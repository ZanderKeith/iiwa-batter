{
 "cells": [
  {
   "cell_type": "code",
   "execution_count": null,
   "metadata": {},
   "outputs": [],
   "source": [
    "%load_ext autoreload\n",
    "%autoreload 2\n",
    "\n",
    "import json\n",
    "import dill\n",
    "import numpy as np\n",
    "from pydrake.geometry import StartMeshcat\n",
    "\n",
    "from iiwa_batter import PACKAGE_ROOT, CONTROL_TIMESTEP, PITCH_TIMESTEP, CONTACT_TIMESTEP\n",
    "from iiwa_batter.robot_constraints.get_joint_constraints import JOINT_CONSTRAINTS\n",
    "from iiwa_batter.physics import find_initial_velocity, PITCH_START_POSITION\n",
    "\n",
    "from iiwa_batter.swing_optimization.full_trajectory import run_full_trajectory, setup_simulator, make_torque_trajectory"
   ]
  },
  {
   "cell_type": "code",
   "execution_count": null,
   "metadata": {},
   "outputs": [],
   "source": [
    "meshcat = StartMeshcat()"
   ]
  },
  {
   "cell_type": "code",
   "execution_count": null,
   "metadata": {},
   "outputs": [],
   "source": [
    "# Load control vector\n",
    "with open(\"best_control_vector.dill\", \"rb\") as f:\n",
    "    best_control_vector, _, _ = dill.load(f)\n",
    "\n",
    "simulator, station = setup_simulator(dt=CONTACT_TIMESTEP, meshcat=meshcat)\n",
    "initial_velocity, time_of_flight = find_initial_velocity(90, [0, 0, 0.6])\n",
    "trajectory_timesteps = np.arange(0, time_of_flight, CONTROL_TIMESTEP)\n",
    "robot_constraints = JOINT_CONSTRAINTS[\"kr6r900\"] \n",
    "torque_trajectory = make_torque_trajectory(best_control_vector, robot_constraints, trajectory_timesteps)\n",
    "\n",
    "run_full_trajectory(meshcat, simulator, station, best_control_vector[:7], [PITCH_START_POSITION, initial_velocity], time_of_flight, robot_constraints, torque_trajectory)"
   ]
  },
  {
   "cell_type": "code",
   "execution_count": null,
   "metadata": {},
   "outputs": [],
   "source": [
    "\n",
    "\n"
   ]
  },
  {
   "cell_type": "code",
   "execution_count": null,
   "metadata": {},
   "outputs": [],
   "source": []
  },
  {
   "cell_type": "code",
   "execution_count": null,
   "metadata": {},
   "outputs": [],
   "source": []
  }
 ],
 "metadata": {
  "kernelspec": {
   "display_name": ".venv",
   "language": "python",
   "name": "python3"
  },
  "language_info": {
   "codemirror_mode": {
    "name": "ipython",
    "version": 3
   },
   "file_extension": ".py",
   "mimetype": "text/x-python",
   "name": "python",
   "nbconvert_exporter": "python",
   "pygments_lexer": "ipython3",
   "version": "3.11.10"
  }
 },
 "nbformat": 4,
 "nbformat_minor": 2
}
