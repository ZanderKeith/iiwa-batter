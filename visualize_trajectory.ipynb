{
 "cells": [
  {
   "cell_type": "code",
   "execution_count": null,
   "metadata": {},
   "outputs": [],
   "source": [
    "%load_ext autoreload\n",
    "%autoreload 2\n",
    "\n",
    "import numpy as np\n",
    "from pydrake.geometry import StartMeshcat\n",
    "\n",
    "from iiwa_batter import PACKAGE_ROOT, CONTROL_DT, PITCH_DT, CONTACT_DT, NUM_JOINTS\n",
    "from iiwa_batter.robot_constraints.get_joint_constraints import JOINT_CONSTRAINTS\n",
    "from iiwa_batter.physics import find_ball_initial_velocity, PITCH_START_POSITION\n",
    "from iiwa_batter.save_load import load_trajectory\n",
    "\n",
    "from iiwa_batter.swing_optimization.full_trajectory import run_full_trajectory, setup_simulator, make_torque_trajectory"
   ]
  },
  {
   "cell_type": "code",
   "execution_count": null,
   "metadata": {},
   "outputs": [],
   "source": [
    "meshcat = StartMeshcat()"
   ]
  },
  {
   "cell_type": "code",
   "execution_count": null,
   "metadata": {},
   "outputs": [],
   "source": [
    "# Load control vector\n",
    "trajectory_settings = {\n",
    "    \"robot\": \"kr6r900\",\n",
    "    \"pitch_speed_mph\": 90,\n",
    "    \"target_position\": [0, 0, 0.6],\n",
    "}\n",
    "optimization_name = \"naive_full_trajectory\"\n",
    "\n",
    "best_control_vector, _, _, _ = load_trajectory(trajectory_settings, optimization_name)\n",
    "\n",
    "simulator, station = setup_simulator(dt=CONTACT_DT, meshcat=meshcat)\n",
    "ball_initial_velocity, time_of_flight = find_ball_initial_velocity(trajectory_settings[\"pitch_speed_mph\"], \n",
    "                                                         trajectory_settings[\"target_position\"])\n",
    "trajectory_timesteps = np.arange(0, time_of_flight, CONTROL_DT)\n",
    "robot_constraints = JOINT_CONSTRAINTS[\"kr6r900\"]\n",
    "torque_trajectory = make_torque_trajectory(best_control_vector, NUM_JOINTS, trajectory_timesteps)\n",
    "\n",
    "contact_loss = run_full_trajectory(meshcat, simulator, station, best_control_vector[:NUM_JOINTS], [PITCH_START_POSITION, ball_initial_velocity], time_of_flight, robot_constraints, torque_trajectory)\n",
    "\n",
    "simulator, station = setup_simulator(dt=PITCH_DT, meshcat=meshcat)\n",
    "pitch_loss = run_full_trajectory(meshcat, simulator, station, best_control_vector[:NUM_JOINTS], [PITCH_START_POSITION, ball_initial_velocity], time_of_flight, robot_constraints, torque_trajectory)\n",
    "\n",
    "print(f\"Contact dt loss: {contact_loss}\")\n",
    "print(f\"Pitch dt loss: {pitch_loss}\")\n",
    "print(f\"Difference: {contact_loss - pitch_loss}\")"
   ]
  }
 ],
 "metadata": {
  "kernelspec": {
   "display_name": ".venv",
   "language": "python",
   "name": "python3"
  },
  "language_info": {
   "codemirror_mode": {
    "name": "ipython",
    "version": 3
   },
   "file_extension": ".py",
   "mimetype": "text/x-python",
   "name": "python",
   "nbconvert_exporter": "python",
   "pygments_lexer": "ipython3",
   "version": "3.11.10"
  }
 },
 "nbformat": 4,
 "nbformat_minor": 2
}
