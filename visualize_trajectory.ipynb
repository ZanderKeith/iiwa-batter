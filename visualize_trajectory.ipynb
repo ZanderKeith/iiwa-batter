{
 "cells": [
  {
   "cell_type": "code",
   "execution_count": null,
   "metadata": {},
   "outputs": [],
   "source": [
    "%load_ext autoreload\n",
    "%autoreload 2\n",
    "\n",
    "import numpy as np\n",
    "from pydrake.geometry import StartMeshcat\n",
    "\n",
    "from iiwa_batter import PACKAGE_ROOT, CONTROL_DT, PITCH_DT, CONTACT_DT, NUM_JOINTS\n",
    "from iiwa_batter.robot_constraints.get_joint_constraints import JOINT_CONSTRAINTS\n",
    "from iiwa_batter.physics import find_ball_initial_velocity, PITCH_START_POSITION\n",
    "from iiwa_batter.save_load import load_control_vector_trajectory, load_dataviewer_trajectory\n",
    "\n",
    "from iiwa_batter.swing_simulator import setup_simulator, run_swing_simulation, reset_systems"
   ]
  },
  {
   "cell_type": "code",
   "execution_count": null,
   "metadata": {},
   "outputs": [],
   "source": [
    "meshcat = StartMeshcat()"
   ]
  },
  {
   "cell_type": "code",
   "execution_count": null,
   "metadata": {},
   "outputs": [],
   "source": [
    "robot_constraints = JOINT_CONSTRAINTS[\"iiwa14\"]\n",
    "\n",
    "simulator, diagram = setup_simulator(torque_trajectory={0:np.ones(NUM_JOINTS)*40}, dt=PITCH_DT, add_contact=False, robot_constraints=robot_constraints, meshcat=meshcat)\n",
    "\n",
    "status_dict = run_swing_simulation(\n",
    "    simulator=simulator,\n",
    "    diagram=diagram,\n",
    "    start_time=0,\n",
    "    end_time=4.0,\n",
    "    initial_joint_positions=np.array([0] * NUM_JOINTS),\n",
    "    initial_joint_velocities=np.array([0] * NUM_JOINTS),\n",
    "    initial_ball_position=PITCH_START_POSITION,\n",
    "    initial_ball_velocity=np.zeros(3),\n",
    "    meshcat=meshcat,\n",
    "    record_state=True,\n",
    ")"
   ]
  },
  {
   "cell_type": "code",
   "execution_count": null,
   "metadata": {},
   "outputs": [],
   "source": [
    "#setup_simulator(dt=CONTACT_DT, meshcat=None)"
   ]
  },
  {
   "cell_type": "code",
   "execution_count": null,
   "metadata": {},
   "outputs": [],
   "source": [
    "torque_trajectory={\n",
    "    0: np.ones(NUM_JOINTS)*-40,\n",
    "    1: np.ones(NUM_JOINTS)*40\n",
    "}\n",
    "\n",
    "simulator, diagram = setup_simulator(torque_trajectory, dt=PITCH_DT, add_contact=True, meshcat=meshcat)\n",
    "\n",
    "from iiwa_batter.swing_optimization.stochastic_gradient_descent import find_initial_positions\n",
    "\n",
    "initial_joint_positions = find_initial_positions(simulator, diagram, robot_constraints, 1)\n",
    "\n",
    "reset_systems(diagram)\n",
    "\n",
    "run_swing_simulation(\n",
    "    simulator=simulator,\n",
    "    diagram=diagram,\n",
    "    start_time=0,\n",
    "    end_time=2*CONTACT_DT,\n",
    "    initial_joint_positions=np.array([0] * NUM_JOINTS),\n",
    "    initial_joint_velocities=np.array([0] * NUM_JOINTS),\n",
    "    initial_ball_position=PITCH_START_POSITION,\n",
    "    initial_ball_velocity=np.zeros(3),\n",
    "    meshcat=meshcat,\n",
    ")\n"
   ]
  }
 ],
 "metadata": {
  "kernelspec": {
   "display_name": ".venv",
   "language": "python",
   "name": "python3"
  },
  "language_info": {
   "codemirror_mode": {
    "name": "ipython",
    "version": 3
   },
   "file_extension": ".py",
   "mimetype": "text/x-python",
   "name": "python",
   "nbconvert_exporter": "python",
   "pygments_lexer": "ipython3",
   "version": "3.11.10"
  }
 },
 "nbformat": 4,
 "nbformat_minor": 2
}
