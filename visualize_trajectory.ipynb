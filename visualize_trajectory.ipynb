{
 "cells": [
  {
   "cell_type": "code",
   "execution_count": null,
   "metadata": {},
   "outputs": [],
   "source": [
    "%load_ext autoreload\n",
    "%autoreload 2\n",
    "\n",
    "import numpy as np\n",
    "from pydrake.geometry import StartMeshcat\n",
    "\n",
    "from iiwa_batter import PACKAGE_ROOT, CONTROL_DT, PITCH_DT, CONTACT_DT, NUM_JOINTS\n",
    "from iiwa_batter.robot_constraints.get_joint_constraints import JOINT_CONSTRAINTS\n",
    "from iiwa_batter.physics import find_ball_initial_velocity, PITCH_START_POSITION\n",
    "from iiwa_batter.save_load import load_control_vector_trajectory, load_dataviewer_trajectory\n",
    "\n",
    "from iiwa_batter.swing_simulator import setup_simulator, run_swing_simulation"
   ]
  },
  {
   "cell_type": "code",
   "execution_count": null,
   "metadata": {},
   "outputs": [],
   "source": [
    "meshcat = StartMeshcat()"
   ]
  },
  {
   "cell_type": "code",
   "execution_count": null,
   "metadata": {},
   "outputs": [],
   "source": [
    "# Load control vector\n",
    "trajectory_settings = {\n",
    "    \"robot\": \"iiwa14\",\n",
    "    \"pitch_speed_mph\": 90,\n",
    "    \"target_position\": [0, 0, 0.6],\n",
    "}\n",
    "#optimization_name = \"naive_full_trajectory_step_309\"\n",
    "optimization_name = \"crash_trajectory\"\n",
    "\n",
    "robot = trajectory_settings[\"robot\"]\n",
    "pitch_speed_mph = trajectory_settings[\"pitch_speed_mph\"]\n",
    "target_position_y = trajectory_settings[\"target_position\"][1]\n",
    "target_position_z = trajectory_settings[\"target_position\"][2]\n",
    "\n",
    "initial_ball_velocity, _ = find_ball_initial_velocity(pitch_speed_mph, np.array([0, target_position_y, target_position_z]), PITCH_START_POSITION)\n",
    "\n",
    "#best_control_vector, _, _, _ = load_control_vector_trajectory(trajectory_settings, optimization_name)\n",
    "\n",
    "simulator, diagram = setup_simulator(torque_trajectory={}, dt=PITCH_DT, meshcat=meshcat)\n",
    "\n",
    "run_swing_simulation(\n",
    "    simulator=simulator,\n",
    "    diagram=diagram,\n",
    "    start_time=0,\n",
    "    end_time=1.5,\n",
    "    initial_joint_positions=np.array([0]*NUM_JOINTS),\n",
    "    initial_joint_velocities=np.array([0]*NUM_JOINTS),\n",
    "    initial_ball_position=PITCH_START_POSITION,\n",
    "    initial_ball_velocity=initial_ball_velocity,\n",
    "    meshcat=meshcat,\n",
    ")"
   ]
  },
  {
   "cell_type": "code",
   "execution_count": null,
   "metadata": {},
   "outputs": [],
   "source": [
    "setup_simulator(dt=CONTACT_DT, meshcat=None)"
   ]
  }
 ],
 "metadata": {
  "kernelspec": {
   "display_name": ".venv",
   "language": "python",
   "name": "python3"
  },
  "language_info": {
   "codemirror_mode": {
    "name": "ipython",
    "version": 3
   },
   "file_extension": ".py",
   "mimetype": "text/x-python",
   "name": "python",
   "nbconvert_exporter": "python",
   "pygments_lexer": "ipython3",
   "version": "3.11.10"
  }
 },
 "nbformat": 4,
 "nbformat_minor": 2
}
