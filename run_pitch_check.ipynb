{
 "cells": [
  {
   "cell_type": "code",
   "execution_count": null,
   "metadata": {},
   "outputs": [],
   "source": [
    "%load_ext autoreload\n",
    "%autoreload 2\n",
    "\n",
    "import numpy as np\n",
    "from pydrake.geometry import StartMeshcat\n",
    "\n",
    "from iiwa_batter import PACKAGE_ROOT, PITCH_DT\n",
    "from iiwa_batter.sandbox.pitch_check import run_pitch_check, FLIGHT_TIME_MULTIPLE\n",
    "from iiwa_batter.physics import find_ball_initial_velocity, PITCH_START_X, PITCH_START_Z"
   ]
  },
  {
   "cell_type": "code",
   "execution_count": null,
   "metadata": {},
   "outputs": [],
   "source": [
    "meshcat = StartMeshcat()"
   ]
  },
  {
   "cell_type": "code",
   "execution_count": null,
   "metadata": {},
   "outputs": [],
   "source": [
    "import json\n",
    "\n",
    "pitch_velocity, time_of_flight = find_ball_initial_velocity(90, np.array([0, 0, 0.6]))\n",
    "\n",
    "#model_urdf = \"iiwa14_limitless\"\n",
    "model_urdf = \"iiwa14_primitive_collision\"\n",
    "#model_urdf = \"iiwa14_spheres_collision\"\n",
    "#model_urdf = \"iiwa14_polytope_collision\"\n",
    "\n",
    "ball_initial_state = run_pitch_check(meshcat, time_of_flight*FLIGHT_TIME_MULTIPLE, pitch_velocity, save_time=0.45, dt=PITCH_DT, model_urdf=model_urdf)\n",
    "with open(f\"{PACKAGE_ROOT}/sandbox/ball_plate_state_90mph.json\", \"w\") as f:\n",
    "    json.dump(ball_initial_state, f)"
   ]
  }
 ],
 "metadata": {
  "kernelspec": {
   "display_name": ".venv",
   "language": "python",
   "name": "python3"
  },
  "language_info": {
   "codemirror_mode": {
    "name": "ipython",
    "version": 3
   },
   "file_extension": ".py",
   "mimetype": "text/x-python",
   "name": "python",
   "nbconvert_exporter": "python",
   "pygments_lexer": "ipython3",
   "version": "3.11.10"
  }
 },
 "nbformat": 4,
 "nbformat_minor": 2
}
