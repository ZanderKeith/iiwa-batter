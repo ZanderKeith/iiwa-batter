{
 "cells": [
  {
   "cell_type": "code",
   "execution_count": 5,
   "metadata": {},
   "outputs": [
    {
     "name": "stdout",
     "output_type": "stream",
     "text": [
      "The autoreload extension is already loaded. To reload it, use:\n",
      "  %reload_ext autoreload\n"
     ]
    }
   ],
   "source": [
    "%load_ext autoreload\n",
    "%autoreload 2\n",
    "\n",
    "import numpy as np\n",
    "from pydrake.geometry import StartMeshcat\n",
    "\n",
    "from iiwa_batter import PACKAGE_ROOT, PITCH_TIMESTEP\n",
    "from iiwa_batter.sandbox.pitch_check import run_pitch_check\n",
    "from iiwa_batter.physics import find_initial_velocity, PITCH_START_X, PITCH_START_Z"
   ]
  },
  {
   "cell_type": "code",
   "execution_count": 4,
   "metadata": {},
   "outputs": [
    {
     "name": "stderr",
     "output_type": "stream",
     "text": [
      "INFO:drake:Meshcat listening for connections at http://localhost:7001\n"
     ]
    }
   ],
   "source": [
    "meshcat = StartMeshcat()"
   ]
  },
  {
   "cell_type": "code",
   "execution_count": 21,
   "metadata": {},
   "outputs": [],
   "source": [
    "import json\n",
    "\n",
    "pitch_velocity, time_of_flight = find_initial_velocity(np.array([PITCH_START_X, 0, PITCH_START_Z]), 90, np.array([0, 0, 0.6]))\n",
    "\n",
    "ball_initial_state = run_pitch_check(meshcat, time_of_flight*1.04, pitch_velocity, save_time=0.45, dt=PITCH_TIMESTEP)\n",
    "with open(f\"{PACKAGE_ROOT}/sandbox/ball_plate_state_90mph.json\", \"w\") as f:\n",
    "    json.dump(ball_initial_state, f)"
   ]
  }
 ],
 "metadata": {
  "kernelspec": {
   "display_name": ".venv",
   "language": "python",
   "name": "python3"
  },
  "language_info": {
   "codemirror_mode": {
    "name": "ipython",
    "version": 3
   },
   "file_extension": ".py",
   "mimetype": "text/x-python",
   "name": "python",
   "nbconvert_exporter": "python",
   "pygments_lexer": "ipython3",
   "version": "3.11.10"
  }
 },
 "nbformat": 4,
 "nbformat_minor": 2
}
