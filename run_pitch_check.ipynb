{
 "cells": [
  {
   "cell_type": "code",
   "execution_count": null,
   "metadata": {},
   "outputs": [],
   "source": [
    "%load_ext autoreload\n",
    "%autoreload 2\n",
    "\n",
    "from pydrake.geometry import StartMeshcat\n",
    "\n",
    "from iiwa_batter import PACKAGE_ROOT, DEFAULT_TIMESTEP\n",
    "from iiwa_batter.sandbox.pitch_check import run_pitch_check"
   ]
  },
  {
   "cell_type": "code",
   "execution_count": null,
   "metadata": {},
   "outputs": [],
   "source": [
    "meshcat = StartMeshcat()"
   ]
  },
  {
   "cell_type": "code",
   "execution_count": null,
   "metadata": {},
   "outputs": [],
   "source": [
    "import json\n",
    "ball_initial_state = run_pitch_check(meshcat, 0.5, save_time=0.45, dt=DEFAULT_TIMESTEP)\n",
    "with open(f\"{PACKAGE_ROOT}/sandbox/ball_plate_state_90mph.json\", \"w\") as f:\n",
    "    json.dump(ball_initial_state, f)"
   ]
  }
 ],
 "metadata": {
  "kernelspec": {
   "display_name": ".venv",
   "language": "python",
   "name": "python3"
  },
  "language_info": {
   "codemirror_mode": {
    "name": "ipython",
    "version": 3
   },
   "file_extension": ".py",
   "mimetype": "text/x-python",
   "name": "python",
   "nbconvert_exporter": "python",
   "pygments_lexer": "ipython3",
   "version": "3.12.3"
  }
 },
 "nbformat": 4,
 "nbformat_minor": 2
}
