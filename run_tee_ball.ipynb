{
 "cells": [
  {
   "cell_type": "code",
   "execution_count": null,
   "metadata": {},
   "outputs": [],
   "source": [
    "%load_ext autoreload\n",
    "%autoreload 2\n",
    "\n",
    "from pydrake.geometry import StartMeshcat\n",
    "\n",
    "from iiwa_batter.sandbox.tee_ball import run_tee_ball\n"
   ]
  },
  {
   "cell_type": "code",
   "execution_count": null,
   "metadata": {},
   "outputs": [],
   "source": [
    "meshcat = StartMeshcat()"
   ]
  },
  {
   "cell_type": "code",
   "execution_count": null,
   "metadata": {},
   "outputs": [],
   "source": [
    "run_tee_ball(meshcat, [0, 0, 0], [100, 1, 1], record_time=1, dt=1e-2)"
   ]
  },
  {
   "cell_type": "code",
   "execution_count": null,
   "metadata": {},
   "outputs": [],
   "source": [
    "import numpy as np\n",
    "from iiwa_batter.robot_constraints.kuka_details import JOINT_POSITION_LIMITS, JOINT_EFFORT_LIMITS\n",
    "\n",
    "# Simple sweep of parameter space\n",
    "\n",
    "position_resolution = 2\n",
    "torque_resolution = 2\n",
    "\n",
    "joint_0_positions = np.linspace(JOINT_POSITION_LIMITS[1][0], JOINT_POSITION_LIMITS[1][1], position_resolution)\n",
    "joint_3_positions = np.linspace(JOINT_POSITION_LIMITS[4][0], JOINT_POSITION_LIMITS[4][1], position_resolution)\n",
    "joint_6_positions = np.linspace(JOINT_POSITION_LIMITS[7][0], JOINT_POSITION_LIMITS[7][1], position_resolution)\n",
    "\n",
    "joint_1_torques = np.linspace(-JOINT_EFFORT_LIMITS[1], JOINT_EFFORT_LIMITS[1], torque_resolution)\n",
    "joint_4_torques = np.linspace(-JOINT_EFFORT_LIMITS[4], JOINT_EFFORT_LIMITS[4], torque_resolution)\n",
    "joint_7_torques = np.linspace(-JOINT_EFFORT_LIMITS[7], JOINT_EFFORT_LIMITS[7], torque_resolution)\n",
    "\n",
    "good_swings = {}\n",
    "swing_threshold = 10 # anything over 20mph, save for further study\n",
    "\n",
    "for joint_0_position in joint_0_positions:\n",
    "    for joint_3_position in joint_3_positions:\n",
    "        for joint_6_position in joint_6_positions:\n",
    "            for joint_1_torque in joint_1_torques:\n",
    "                for joint_4_torque in joint_4_torques:\n",
    "                    for joint_7_torque in joint_7_torques:\n",
    "                        position = [joint_0_position, joint_3_position, joint_6_position]\n",
    "                        torque = [joint_1_torque, joint_4_torque, joint_7_torque]\n",
    "                        exit_velo = run_tee_ball(None, \n",
    "                                                position, \n",
    "                                                torque, \n",
    "                                                record_time=1, dt=1e-2)\n",
    "                        if exit_velo > swing_threshold:\n",
    "                            good_swings[exit_velo] = (position, torque)\n"
   ]
  },
  {
   "cell_type": "code",
   "execution_count": null,
   "metadata": {},
   "outputs": [],
   "source": [
    "# Pick one of the good swings\n",
    "(position, torque) = good_swings[list(good_swings.keys())[0]]\n",
    "exit_velo = run_tee_ball(meshcat, position, torque, 1, 1e-2)\n",
    "print(exit_velo)"
   ]
  },
  {
   "cell_type": "code",
   "execution_count": null,
   "metadata": {},
   "outputs": [],
   "source": [
    "from iiwa_batter.physics import ball_distance_mph\n",
    "print(ball_distance_mph(70))"
   ]
  }
 ],
 "metadata": {
  "kernelspec": {
   "display_name": ".venv",
   "language": "python",
   "name": "python3"
  },
  "language_info": {
   "codemirror_mode": {
    "name": "ipython",
    "version": 3
   },
   "file_extension": ".py",
   "mimetype": "text/x-python",
   "name": "python",
   "nbconvert_exporter": "python",
   "pygments_lexer": "ipython3",
   "version": "3.11.10"
  }
 },
 "nbformat": 4,
 "nbformat_minor": 2
}
