{
 "cells": [
  {
   "cell_type": "code",
   "execution_count": null,
   "metadata": {},
   "outputs": [],
   "source": [
    "%load_ext autoreload\n",
    "%autoreload 2\n",
    "\n",
    "import json\n",
    "import numpy as np\n",
    "from pydrake.geometry import StartMeshcat\n",
    "\n",
    "from iiwa_batter import PACKAGE_ROOT, CONTACT_TIMESTEP\n",
    "from iiwa_batter.swing_optimization.instantaneous_swing import run_instantaneous_swing\n",
    "from iiwa_batter.robot_constraints.get_joint_constraints import JOINT_CONSTRAINTS"
   ]
  },
  {
   "cell_type": "code",
   "execution_count": null,
   "metadata": {},
   "outputs": [],
   "source": [
    "meshcat = StartMeshcat()"
   ]
  },
  {
   "cell_type": "code",
   "execution_count": null,
   "metadata": {},
   "outputs": [],
   "source": [
    "# Load plate ball state and load it into numpy arrays\n",
    "with open(f\"{PACKAGE_ROOT}/sandbox/ball_plate_state_90mph.json\", \"r\") as f:\n",
    "    ball_state = json.load(f)\n",
    "\n",
    "ball_plate_position = np.zeros(7)\n",
    "ball_plate_velocity = np.zeros(6)\n",
    "for key, value in ball_state.items():\n",
    "    if key == \"position\":\n",
    "        for i, val in enumerate(value.items()):\n",
    "            ball_plate_position[i] = val[1]\n",
    "    elif key == \"velocity\":\n",
    "        for i, val in enumerate(value.items()):\n",
    "            ball_plate_velocity[i] = val[1]\n",
    "\n",
    "print(f\"Plate ball position: {ball_plate_position[4:]}\")\n",
    "print(f\"Plate ball velocity: {ball_plate_velocity[3:]}\")\n",
    "plate_ball_state = (ball_plate_position, ball_plate_velocity)\n",
    "\n",
    "# Our optimization is over the following parameters:\n",
    "# Initial iiwa position, which is a 8x1 vector (base rotation and all the joint rotations)\n",
    "# Initial iiwa velocity, which is a 7x1 vector (all the joint velocities)\n",
    "# iiwaa torque is also a 7x1 vector, but we don't optimize over it. Simply set as maximum in direction of velocity\n",
    "\n",
    "\n",
    "\n",
    "plate_iiwa_position = np.array([0, 0, 0, 0, 0, 0, 0, 0])\n",
    "plate_iiwa_velocity = np.array([0, 0, 10, 0, 0, 0, 0])\n"
   ]
  },
  {
   "cell_type": "code",
   "execution_count": null,
   "metadata": {},
   "outputs": [],
   "source": [
    "plate_iiwa_position = np.array([0, 0, 1.6, -0.4, -1.7, 1.6, 0])\n",
    "plate_iiwa_velocity = np.array([0, 0, 0, 0, 0, 0, 0])\n",
    "run_instantaneous_swing(meshcat, plate_iiwa_position, plate_iiwa_velocity, plate_ball_state, CONTACT_TIMESTEP)"
   ]
  },
  {
   "cell_type": "code",
   "execution_count": null,
   "metadata": {},
   "outputs": [],
   "source": []
  },
  {
   "cell_type": "code",
   "execution_count": null,
   "metadata": {},
   "outputs": [],
   "source": []
  }
 ],
 "metadata": {
  "kernelspec": {
   "display_name": ".venv",
   "language": "python",
   "name": "python3"
  },
  "language_info": {
   "codemirror_mode": {
    "name": "ipython",
    "version": 3
   },
   "file_extension": ".py",
   "mimetype": "text/x-python",
   "name": "python",
   "nbconvert_exporter": "python",
   "pygments_lexer": "ipython3",
   "version": "3.12.3"
  }
 },
 "nbformat": 4,
 "nbformat_minor": 2
}
