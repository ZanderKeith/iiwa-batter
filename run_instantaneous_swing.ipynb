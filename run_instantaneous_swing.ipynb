{
 "cells": [
  {
   "cell_type": "code",
   "execution_count": 1,
   "metadata": {},
   "outputs": [
    {
     "name": "stdout",
     "output_type": "stream",
     "text": [
      "Loaded joint constraints for KUKA robots\n"
     ]
    }
   ],
   "source": [
    "%load_ext autoreload\n",
    "%autoreload 2\n",
    "\n",
    "import json\n",
    "import numpy as np\n",
    "from pydrake.geometry import StartMeshcat\n",
    "\n",
    "from iiwa_batter import PACKAGE_ROOT, CONTACT_TIMESTEP\n",
    "from iiwa_batter.swing_optimization.instantaneous_swing import run_instantaneous_swing\n",
    "from iiwa_batter.robot_constraints.get_joint_constraints import JOINT_CONSTRAINTS"
   ]
  },
  {
   "cell_type": "code",
   "execution_count": 2,
   "metadata": {},
   "outputs": [
    {
     "name": "stderr",
     "output_type": "stream",
     "text": [
      "INFO:drake:Meshcat listening for connections at http://localhost:7002\n"
     ]
    }
   ],
   "source": [
    "meshcat = StartMeshcat()"
   ]
  },
  {
   "cell_type": "code",
   "execution_count": null,
   "metadata": {},
   "outputs": [
    {
     "name": "stdout",
     "output_type": "stream",
     "text": [
      "Plate ball position: [0.33528    0.         0.63797414]\n",
      "Plate ball velocity: [-40.2336       0.          -4.78089136]\n"
     ]
    }
   ],
   "source": [
    "# Load plate ball state and load it into numpy arrays\n",
    "with open(f\"{PACKAGE_ROOT}/sandbox/ball_plate_state_90mph.json\", \"r\") as f:\n",
    "    ball_state = json.load(f)\n",
    "\n",
    "ball_plate_position = np.zeros(7)\n",
    "ball_plate_velocity = np.zeros(6)\n",
    "for key, value in ball_state.items():\n",
    "    if key == \"position\":\n",
    "        for i, val in enumerate(value.items()):\n",
    "            ball_plate_position[i] = val[1]\n",
    "    elif key == \"velocity\":\n",
    "        for i, val in enumerate(value.items()):\n",
    "            ball_plate_velocity[i] = val[1]\n",
    "\n",
    "print(f\"Plate ball position: {ball_plate_position[4:]}\")\n",
    "print(f\"Plate ball velocity: {ball_plate_velocity[3:]}\")\n",
    "plate_ball_state = (ball_plate_position, ball_plate_velocity)\n",
    "\n",
    "# Our optimization is over the following parameters:\n",
    "# Initial iiwa position, which is a 8x1 vector (base rotation and all the joint rotations)\n",
    "# Initial iiwa velocity, which is a 7x1 vector (all the joint velocities)\n",
    "# iiwaa torque is also a 7x1 vector, but we don't optimize over it. Simply set as maximum in direction of velocity\n",
    "\n",
    "\n",
    "\n",
    "plate_iiwa_position = np.array([0, 0, 0, 0, 0, 0, 0, 0])\n",
    "plate_iiwa_velocity = np.array([0, 0, 10, 0, 0, 0, 0])\n"
   ]
  },
  {
   "cell_type": "code",
   "execution_count": 9,
   "metadata": {},
   "outputs": [
    {
     "data": {
      "text/plain": [
       "-2.1034870466506552"
      ]
     },
     "execution_count": 9,
     "metadata": {},
     "output_type": "execute_result"
    }
   ],
   "source": [
    "plate_iiwa_position = np.array([0, 1.5, -1.5, 1.6, -0.4, -1.7, 1.6, 0])\n",
    "plate_iiwa_velocity = np.array([0, 0, 0, 0, 0, 0, 0])\n",
    "run_instantaneous_swing(meshcat, plate_iiwa_position, plate_iiwa_velocity, plate_ball_state, CONTACT_TIMESTEP)"
   ]
  },
  {
   "cell_type": "code",
   "execution_count": null,
   "metadata": {},
   "outputs": [
    {
     "name": "stdout",
     "output_type": "stream",
     "text": [
      "|   iter    |  target   |  joint1   |  joint2   |  joint3   |  joint4   |  joint5   |  joint6   |  joint7   |\n",
      "-------------------------------------------------------------------------------------------------------------\n",
      "| \u001b[95m2        \u001b[0m | \u001b[95m-0.4389  \u001b[0m | \u001b[95m-0.4582  \u001b[0m | \u001b[95m-0.3063  \u001b[0m | \u001b[95m0.1355   \u001b[0m | \u001b[95m-0.2115  \u001b[0m | \u001b[95m0.8405   \u001b[0m | \u001b[95m-1.393   \u001b[0m | \u001b[95m1.782    \u001b[0m |\n",
      "| \u001b[95m4        \u001b[0m | \u001b[95m0.3438   \u001b[0m | \u001b[95m1.389    \u001b[0m | \u001b[95m-0.5536  \u001b[0m | \u001b[95m0.6713   \u001b[0m | \u001b[95m0.9854   \u001b[0m | \u001b[95m1.791    \u001b[0m | \u001b[95m-1.955   \u001b[0m | \u001b[95m-2.172   \u001b[0m |\n",
      "| \u001b[95m9        \u001b[0m | \u001b[95m0.7203   \u001b[0m | \u001b[95m0.2199   \u001b[0m | \u001b[95m-1.048   \u001b[0m | \u001b[95m0.3117   \u001b[0m | \u001b[95m0.523    \u001b[0m | \u001b[95m-1.805   \u001b[0m | \u001b[95m-0.405   \u001b[0m | \u001b[95m0.9161   \u001b[0m |\n",
      "| \u001b[95m11       \u001b[0m | \u001b[95m0.9602   \u001b[0m | \u001b[95m1.197    \u001b[0m | \u001b[95m-1.076   \u001b[0m | \u001b[95m-1.259   \u001b[0m | \u001b[95m0.8047   \u001b[0m | \u001b[95m-0.4643  \u001b[0m | \u001b[95m-1.577   \u001b[0m | \u001b[95m2.015    \u001b[0m |\n",
      "| \u001b[95m16       \u001b[0m | \u001b[95m1.192    \u001b[0m | \u001b[95m0.366    \u001b[0m | \u001b[95m-1.437   \u001b[0m | \u001b[95m1.499    \u001b[0m | \u001b[95m0.4998   \u001b[0m | \u001b[95m2.257    \u001b[0m | \u001b[95m-1.544   \u001b[0m | \u001b[95m-1.71    \u001b[0m |\n",
      "| \u001b[95m36       \u001b[0m | \u001b[95m1.277    \u001b[0m | \u001b[95m0.3324   \u001b[0m | \u001b[95m-1.324   \u001b[0m | \u001b[95m-0.2786  \u001b[0m | \u001b[95m0.4688   \u001b[0m | \u001b[95m1.9      \u001b[0m | \u001b[95m-2.354   \u001b[0m | \u001b[95m2.247    \u001b[0m |\n",
      "| \u001b[95m101      \u001b[0m | \u001b[95m2.384    \u001b[0m | \u001b[95m0.4438   \u001b[0m | \u001b[95m-1.484   \u001b[0m | \u001b[95m1.745    \u001b[0m | \u001b[95m0.5494   \u001b[0m | \u001b[95m0.3419   \u001b[0m | \u001b[95m-2.356   \u001b[0m | \u001b[95m0.6893   \u001b[0m |\n",
      "| \u001b[95m103      \u001b[0m | \u001b[95m2.566    \u001b[0m | \u001b[95m1.297    \u001b[0m | \u001b[95m-1.484   \u001b[0m | \u001b[95m1.745    \u001b[0m | \u001b[95m-0.7236  \u001b[0m | \u001b[95m-1.213   \u001b[0m | \u001b[95m-2.356   \u001b[0m | \u001b[95m0.4035   \u001b[0m |\n",
      "| \u001b[95m106      \u001b[0m | \u001b[95m3.12     \u001b[0m | \u001b[95m0.6576   \u001b[0m | \u001b[95m-1.484   \u001b[0m | \u001b[95m1.745    \u001b[0m | \u001b[95m1.051    \u001b[0m | \u001b[95m-2.186   \u001b[0m | \u001b[95m-2.356   \u001b[0m | \u001b[95m1.848    \u001b[0m |\n",
      "| \u001b[95m111      \u001b[0m | \u001b[95m3.298    \u001b[0m | \u001b[95m1.484    \u001b[0m | \u001b[95m-1.484   \u001b[0m | \u001b[95m1.745    \u001b[0m | \u001b[95m-0.5346  \u001b[0m | \u001b[95m-2.269   \u001b[0m | \u001b[95m-2.356   \u001b[0m | \u001b[95m2.356    \u001b[0m |\n",
      "| \u001b[95m116      \u001b[0m | \u001b[95m3.404    \u001b[0m | \u001b[95m1.484    \u001b[0m | \u001b[95m-1.484   \u001b[0m | \u001b[95m1.745    \u001b[0m | \u001b[95m1.309    \u001b[0m | \u001b[95m-0.8705  \u001b[0m | \u001b[95m-2.356   \u001b[0m | \u001b[95m2.356    \u001b[0m |\n",
      "| \u001b[95m124      \u001b[0m | \u001b[95m3.684    \u001b[0m | \u001b[95m1.484    \u001b[0m | \u001b[95m-1.484   \u001b[0m | \u001b[95m1.745    \u001b[0m | \u001b[95m1.309    \u001b[0m | \u001b[95m-2.269   \u001b[0m | \u001b[95m-2.356   \u001b[0m | \u001b[95m2.356    \u001b[0m |\n"
     ]
    }
   ],
   "source": []
  },
  {
   "cell_type": "code",
   "execution_count": null,
   "metadata": {},
   "outputs": [],
   "source": []
  }
 ],
 "metadata": {
  "kernelspec": {
   "display_name": ".venv",
   "language": "python",
   "name": "python3"
  },
  "language_info": {
   "codemirror_mode": {
    "name": "ipython",
    "version": 3
   },
   "file_extension": ".py",
   "mimetype": "text/x-python",
   "name": "python",
   "nbconvert_exporter": "python",
   "pygments_lexer": "ipython3",
   "version": "3.11.10"
  }
 },
 "nbformat": 4,
 "nbformat_minor": 2
}
