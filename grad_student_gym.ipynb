{
 "cells": [
  {
   "cell_type": "markdown",
   "metadata": {},
   "source": [
    "Let's see if we can't beat the sample-based solution (for the first half of this problem, at least)"
   ]
  },
  {
   "cell_type": "code",
   "execution_count": null,
   "metadata": {},
   "outputs": [],
   "source": [
    "%load_ext autoreload\n",
    "%autoreload 2\n",
    "\n",
    "import numpy as np\n",
    "from pydrake.geometry import StartMeshcat\n",
    "\n",
    "from iiwa_batter import PACKAGE_ROOT, CONTROL_DT, PITCH_DT, CONTACT_DT, NUM_JOINTS\n",
    "from iiwa_batter.robot_constraints.get_joint_constraints import JOINT_CONSTRAINTS\n",
    "from iiwa_batter.physics import (\n",
    "    PITCH_START_POSITION,\n",
    "    FLIGHT_TIME_MULTIPLE,\n",
    "    find_ball_initial_velocity,\n",
    ")\n",
    "from iiwa_batter.trajectory_library import LIBRARY_POSITIONS, LIBRARY_SPEEDS_MPH\n",
    "\n",
    "from iiwa_batter.swing_simulator import setup_simulator, run_swing_simulation, reset_systems\n",
    "from iiwa_batter.swing_optimization.stochastic_gradient_descent import make_torque_trajectory, make_trajectory_timesteps\n",
    "from iiwa_batter.swing_optimization.full_trajectory import full_trajectory_reward\n",
    "from iiwa_batter.swing_optimization.swing_impact import calculate_plate_time_and_ball_state, dummy_torque_trajectory, swing_link_reward\n",
    "from iiwa_batter.swing_optimization.partial_trajectory import partial_trajectory_reward\n",
    "from iiwa_batter.swing_optimization.graduate_student_descent import student_control_vector, keyframe_trajectory, trajectory_to_control_vector"
   ]
  },
  {
   "cell_type": "markdown",
   "metadata": {},
   "source": [
    "## Swing Impact Optimization"
   ]
  },
  {
   "cell_type": "code",
   "execution_count": null,
   "metadata": {},
   "outputs": [],
   "source": [
    "meshcat = StartMeshcat()\n",
    "robot = \"iiwa14\"\n",
    "robot_constraints = JOINT_CONSTRAINTS[robot]\n",
    "target_speed_mph = LIBRARY_SPEEDS_MPH[2]\n",
    "target_position = LIBRARY_POSITIONS[0]\n",
    "plate_time, plate_ball_position, plate_ball_velocity = calculate_plate_time_and_ball_state(target_speed_mph, target_position)\n",
    "simulator_swing, diagram_swing = setup_simulator(torque_trajectory={}, model_urdf=robot, dt=CONTACT_DT, robot_constraints=robot_constraints, meshcat=meshcat)"
   ]
  },
  {
   "cell_type": "code",
   "execution_count": null,
   "metadata": {},
   "outputs": [],
   "source": [
    "plate_joint_position_controls = np.array([0.75, 0.25, 0.01, -0.6, 0, 0.55, 0])\n",
    "plate_joint_velocity_controls = np.array([1, 0, 1, 0, -0.4, 0, -0.5])\n",
    "plate_joint_positions = student_control_vector(robot, plate_joint_position_controls, \"position\")\n",
    "plate_joint_velocities = student_control_vector(robot, plate_joint_velocity_controls, \"velocity\")\n",
    "\n",
    "# Swing impact optimization, get the actual reward\n",
    "present_reward = partial_trajectory_reward(\n",
    "    simulator=simulator_swing,\n",
    "    diagram=diagram_swing,\n",
    "    start_time=0,\n",
    "    initial_joint_positions=plate_joint_positions,\n",
    "    initial_joint_velocities=plate_joint_velocities,\n",
    "    initial_ball_position=plate_ball_position,\n",
    "    initial_ball_velocity=plate_ball_velocity,\n",
    "    torque_trajectory=dummy_torque_trajectory(0),\n",
    "    meshcat=meshcat,\n",
    ")\n",
    "\n",
    "print(present_reward)"
   ]
  },
  {
   "cell_type": "markdown",
   "metadata": {},
   "source": [
    "## Link Trajectory Optimization"
   ]
  },
  {
   "cell_type": "code",
   "execution_count": null,
   "metadata": {},
   "outputs": [],
   "source": [
    "simulator_link, diagram_link = setup_simulator(torque_trajectory={}, model_urdf=robot, dt=PITCH_DT, robot_constraints=robot_constraints)\n",
    "pitch_velocity, ball_time_of_flight = find_ball_initial_velocity(target_speed_mph, target_position)\n",
    "trajectory_timesteps = make_trajectory_timesteps(ball_time_of_flight)"
   ]
  },
  {
   "cell_type": "code",
   "execution_count": null,
   "metadata": {},
   "outputs": [],
   "source": [
    "# Link trajectory optimization, see what the swing looks like\n",
    "initial_joint_position_controls = np.array([0.5, 0.25, 0.01, -0.6, 0, 0.55, 0])\n",
    "torque_keyframe_controls = {\n",
    "    0: np.array([1, -0.17, 0, 0.21, 0, -0.1, -0.1]),\n",
    "    ball_time_of_flight - 3*CONTROL_DT: np.array([1, -1, 0, 0.21, 0, -0.1, -0.1]),\n",
    "    ball_time_of_flight: np.zeros(NUM_JOINTS),\n",
    "}\n",
    "torque_trajectory = keyframe_trajectory(robot, trajectory_timesteps, torque_keyframe_controls)\n",
    "control_vector = trajectory_to_control_vector(robot, target_speed_mph, torque_trajectory)\n",
    "link_reward = swing_link_reward(\n",
    "    simulator=simulator_link,\n",
    "    diagram=diagram_link,\n",
    "    plate_time=plate_time,\n",
    "    plate_joint_positions=student_control_vector(robot, plate_joint_position_controls, \"position\"),\n",
    "    plate_joint_velocities=student_control_vector(robot, plate_joint_velocity_controls, \"velocity\"),\n",
    "    initial_joint_positions=student_control_vector(robot, initial_joint_position_controls, \"position\"),\n",
    "    control_vector=control_vector,\n",
    "    ball_time_of_flight=ball_time_of_flight,\n",
    ")\n",
    "hit_reward = partial_trajectory_reward(\n",
    "    simulator=simulator_swing,\n",
    "    diagram=diagram_swing,\n",
    "    start_time=0,\n",
    "    initial_joint_positions=student_control_vector(robot, initial_joint_position_controls, \"position\"),\n",
    "    initial_joint_velocities=np.zeros(NUM_JOINTS),\n",
    "    initial_ball_position=PITCH_START_POSITION,\n",
    "    initial_ball_velocity=pitch_velocity,\n",
    "    torque_trajectory=torque_trajectory,\n",
    "    meshcat=meshcat,\n",
    ")\n",
    "\n",
    "print(f\"Link reward: {link_reward}\")\n",
    "print(f\"Hit reward: {hit_reward}\")\n"
   ]
  }
 ],
 "metadata": {
  "kernelspec": {
   "display_name": ".venv",
   "language": "python",
   "name": "python3"
  },
  "language_info": {
   "codemirror_mode": {
    "name": "ipython",
    "version": 3
   },
   "file_extension": ".py",
   "mimetype": "text/x-python",
   "name": "python",
   "nbconvert_exporter": "python",
   "pygments_lexer": "ipython3",
   "version": "3.11.10"
  }
 },
 "nbformat": 4,
 "nbformat_minor": 2
}
