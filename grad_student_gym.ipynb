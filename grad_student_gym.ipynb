{
 "cells": [
  {
   "cell_type": "markdown",
   "metadata": {},
   "source": [
    "Let's see if we can't beat the sample-based solution (for the first half of this problem, at least)"
   ]
  },
  {
   "cell_type": "code",
   "execution_count": null,
   "metadata": {},
   "outputs": [],
   "source": [
    "%load_ext autoreload\n",
    "%autoreload 2\n",
    "\n",
    "import numpy as np\n",
    "import dill\n",
    "from pydrake.geometry import StartMeshcat\n",
    "\n",
    "from iiwa_batter import PACKAGE_ROOT, CONTROL_DT, PITCH_DT, CONTACT_DT, NUM_JOINTS\n",
    "from iiwa_batter.robot_constraints.get_joint_constraints import JOINT_CONSTRAINTS\n",
    "from iiwa_batter.physics import (\n",
    "    PITCH_START_POSITION,\n",
    "    FLIGHT_TIME_MULTIPLE,\n",
    "    find_ball_initial_velocity,\n",
    ")\n",
    "from iiwa_batter.trajectory_library import LIBRARY_POSITIONS, LIBRARY_SPEEDS_MPH\n",
    "\n",
    "from iiwa_batter.swing_simulator import setup_simulator, run_swing_simulation, reset_systems\n",
    "from iiwa_batter.swing_optimization.stochastic_gradient_descent import make_torque_trajectory\n",
    "from iiwa_batter.swing_optimization.full_trajectory import full_trajectory_reward\n",
    "from iiwa_batter.swing_optimization.swing_impact import calculate_plate_time_and_ball_state, dummy_torque_trajectory\n",
    "from iiwa_batter.swing_optimization.partial_trajectory import partial_trajectory_reward"
   ]
  },
  {
   "cell_type": "code",
   "execution_count": null,
   "metadata": {},
   "outputs": [],
   "source": [
    "meshcat = StartMeshcat()"
   ]
  },
  {
   "cell_type": "code",
   "execution_count": null,
   "metadata": {},
   "outputs": [],
   "source": [
    "robot = \"iiwa14\"\n",
    "robot_constraints = JOINT_CONSTRAINTS[robot]\n",
    "target_speed_mph = LIBRARY_SPEEDS_MPH[0]\n",
    "target_position = LIBRARY_POSITIONS[0]\n",
    "plate_time, plate_ball_position, plate_ball_velocity = calculate_plate_time_and_ball_state(target_speed_mph, target_position)\n",
    "simulator, diagram = setup_simulator(torque_trajectory={}, model_urdf=robot, dt=CONTACT_DT, robot_constraints=robot_constraints, meshcat=meshcat)\n",
    "print(robot_constraints[\"joint_range\"])"
   ]
  },
  {
   "cell_type": "code",
   "execution_count": null,
   "metadata": {},
   "outputs": [],
   "source": [
    "# Swing impact optimization, see what the swing looks like\n",
    "torque_trajectory = dummy_torque_trajectory(plate_time)\n",
    "reset_systems(diagram, torque_trajectory)\n",
    "status_dict = run_swing_simulation(\n",
    "    simulator,\n",
    "    diagram,\n",
    "    start_time=plate_time,\n",
    "    end_time=max(torque_trajectory.keys()),\n",
    "    initial_joint_positions=initial_joint_positions,\n",
    "    initial_joint_velocities=initial_joint_velocities,\n",
    "    initial_ball_position=plate_ball_position,\n",
    "    initial_ball_velocity=plate_ball_velocity,\n",
    ")\n"
   ]
  },
  {
   "cell_type": "code",
   "execution_count": null,
   "metadata": {},
   "outputs": [],
   "source": [
    "plate_joint_position_controls = \n",
    "plate_joint_velocity_controls = \n",
    "\n",
    "# Swing impact optimization, get the actual reward\n",
    "present_reward = partial_trajectory_reward(\n",
    "    simulator=simulator,\n",
    "    diagram=diagram,\n",
    "    start_time=plate_time,\n",
    "    initial_joint_positions=plate_joint_positions,\n",
    "    initial_joint_velocities=plate_joint_velocities,\n",
    "    initial_ball_position=plate_ball_position,\n",
    "    initial_ball_velocity=plate_ball_velocity,\n",
    "    torque_trajectory=dummy_torque_trajectory(plate_time),\n",
    ")"
   ]
  }
 ],
 "metadata": {
  "kernelspec": {
   "display_name": ".venv",
   "language": "python",
   "name": "python3"
  },
  "language_info": {
   "codemirror_mode": {
    "name": "ipython",
    "version": 3
   },
   "file_extension": ".py",
   "mimetype": "text/x-python",
   "name": "python",
   "nbconvert_exporter": "python",
   "pygments_lexer": "ipython3",
   "version": "3.11.10"
  }
 },
 "nbformat": 4,
 "nbformat_minor": 2
}
