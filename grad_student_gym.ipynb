{
 "cells": [
  {
   "cell_type": "markdown",
   "metadata": {},
   "source": [
    "Let's see if we can't beat the sample-based solution (for the first half of this problem, at least)"
   ]
  },
  {
   "cell_type": "code",
   "execution_count": 10,
   "metadata": {},
   "outputs": [
    {
     "name": "stdout",
     "output_type": "stream",
     "text": [
      "The autoreload extension is already loaded. To reload it, use:\n",
      "  %reload_ext autoreload\n"
     ]
    }
   ],
   "source": [
    "%load_ext autoreload\n",
    "%autoreload 2\n",
    "\n",
    "import numpy as np\n",
    "from pydrake.geometry import StartMeshcat\n",
    "\n",
    "from iiwa_batter import PACKAGE_ROOT, CONTROL_DT, PITCH_DT, CONTACT_DT, NUM_JOINTS\n",
    "from iiwa_batter.robot_constraints.get_joint_constraints import JOINT_CONSTRAINTS\n",
    "from iiwa_batter.physics import (\n",
    "    PITCH_START_POSITION,\n",
    "    FLIGHT_TIME_MULTIPLE,\n",
    "    find_ball_initial_velocity,\n",
    ")\n",
    "from iiwa_batter.trajectory_library import LIBRARY_POSITIONS, LIBRARY_SPEEDS_MPH\n",
    "\n",
    "from iiwa_batter.swing_simulator import setup_simulator, run_swing_simulation, reset_systems\n",
    "from iiwa_batter.swing_optimization.stochastic_gradient_descent import make_torque_trajectory, make_trajectory_timesteps\n",
    "from iiwa_batter.swing_optimization.full_trajectory import full_trajectory_reward\n",
    "from iiwa_batter.swing_optimization.swing_impact import calculate_plate_time_and_ball_state, dummy_torque_trajectory\n",
    "from iiwa_batter.swing_optimization.partial_trajectory import partial_trajectory_reward\n",
    "from iiwa_batter.swing_optimization.graduate_student_descent import student_control_vector, keyframe_trajectory, trajectory_to_control_vector"
   ]
  },
  {
   "cell_type": "markdown",
   "metadata": {},
   "source": [
    "## Swing Impact Optimization"
   ]
  },
  {
   "cell_type": "code",
   "execution_count": 11,
   "metadata": {},
   "outputs": [
    {
     "name": "stderr",
     "output_type": "stream",
     "text": [
      "INFO:drake:Meshcat listening for connections at http://localhost:7001\n"
     ]
    }
   ],
   "source": [
    "meshcat = StartMeshcat()\n",
    "robot = \"iiwa14\"\n",
    "robot_constraints = JOINT_CONSTRAINTS[robot]\n",
    "target_speed_mph = LIBRARY_SPEEDS_MPH[0]\n",
    "target_position = LIBRARY_POSITIONS[0]\n",
    "plate_time, plate_ball_position, plate_ball_velocity = calculate_plate_time_and_ball_state(target_speed_mph, target_position)\n",
    "simulator, diagram = setup_simulator(torque_trajectory={}, model_urdf=robot, dt=CONTACT_DT, robot_constraints=robot_constraints, meshcat=meshcat)"
   ]
  },
  {
   "cell_type": "code",
   "execution_count": 12,
   "metadata": {},
   "outputs": [],
   "source": [
    "plate_joint_position_controls = np.array([0.75, 0.25, 0.01, -0.6, 0, 0.55, 0])\n",
    "plate_joint_velocity_controls = np.array([1, 0, 1, 0, -0.4, 0, -0.5])\n",
    "\n",
    "# Swing impact optimization, see what the swing looks like\n",
    "torque_trajectory = dummy_torque_trajectory(plate_time)\n",
    "reset_systems(diagram, torque_trajectory)\n",
    "status_dict = run_swing_simulation(\n",
    "    simulator,\n",
    "    diagram,\n",
    "    start_time=plate_time,\n",
    "    end_time=max(torque_trajectory.keys()),\n",
    "    initial_joint_positions=student_control_vector(robot, plate_joint_position_controls, \"position\"),\n",
    "    initial_joint_velocities=student_control_vector(robot, plate_joint_velocity_controls, \"velocity\"),\n",
    "    initial_ball_position=plate_ball_position,\n",
    "    initial_ball_velocity=plate_ball_velocity,\n",
    "    meshcat=meshcat,\n",
    ")\n"
   ]
  },
  {
   "cell_type": "code",
   "execution_count": 13,
   "metadata": {},
   "outputs": [
    {
     "name": "stdout",
     "output_type": "stream",
     "text": [
      "30.215659375981474\n"
     ]
    }
   ],
   "source": [
    "plate_joint_position_controls = np.array([0.75, 0.25, 0.01, -0.6, 0, 0.55, 0])\n",
    "plate_joint_velocity_controls = np.array([1, 0, 1, 0, -0.4, 0, -0.5])\n",
    "\n",
    "# Swing impact optimization, get the actual reward\n",
    "present_reward = partial_trajectory_reward(\n",
    "    simulator=simulator,\n",
    "    diagram=diagram,\n",
    "    start_time=plate_time,\n",
    "    initial_joint_positions=student_control_vector(robot, plate_joint_position_controls, \"position\"),\n",
    "    initial_joint_velocities=student_control_vector(robot, plate_joint_velocity_controls, \"velocity\"),\n",
    "    initial_ball_position=plate_ball_position,\n",
    "    initial_ball_velocity=plate_ball_velocity,\n",
    "    torque_trajectory=dummy_torque_trajectory(plate_time),\n",
    ")\n",
    "\n",
    "print(present_reward)"
   ]
  },
  {
   "cell_type": "markdown",
   "metadata": {},
   "source": [
    "## Link Trajectory Optimization"
   ]
  },
  {
   "cell_type": "code",
   "execution_count": 6,
   "metadata": {},
   "outputs": [],
   "source": [
    "simulator, diagram = setup_simulator(torque_trajectory={}, model_urdf=robot, dt=PITCH_DT, robot_constraints=robot_constraints, meshcat=meshcat)\n",
    "pitch_velocity, ball_time_of_flight = find_ball_initial_velocity(target_speed_mph, target_position)\n",
    "trajectory_timesteps = make_trajectory_timesteps(ball_time_of_flight)"
   ]
  },
  {
   "cell_type": "code",
   "execution_count": 9,
   "metadata": {},
   "outputs": [],
   "source": [
    "# Link trajectory optimization, see what the swing looks like\n",
    "initial_joint_position_controls = np.array([0.5, 0.25, 0.01, -0.6, 0, 0.55, 0])\n",
    "torque_keyframe_controls = {\n",
    "    0: np.array([1, -0.2, 0, 0.2, 0, 0, -0.5]),\n",
    "    ball_time_of_flight: np.zeros(NUM_JOINTS),\n",
    "}\n",
    "torque_trajectory = keyframe_trajectory(robot, trajectory_timesteps, torque_keyframe_controls)\n",
    "trajectory_to_control_vector(robot, torque_trajectory)\n",
    "reset_systems(diagram, torque_trajectory)\n",
    "status_dict = run_swing_simulation(\n",
    "    simulator,\n",
    "    diagram,\n",
    "    start_time=0,\n",
    "    end_time=ball_time_of_flight+0.1,\n",
    "    initial_joint_positions=student_control_vector(robot, initial_joint_position_controls, \"position\"),\n",
    "    initial_joint_velocities=np.zeros(NUM_JOINTS),\n",
    "    initial_ball_position=PITCH_START_POSITION,\n",
    "    initial_ball_velocity=pitch_velocity,\n",
    "    meshcat=meshcat,\n",
    ")"
   ]
  }
 ],
 "metadata": {
  "kernelspec": {
   "display_name": ".venv",
   "language": "python",
   "name": "python3"
  },
  "language_info": {
   "codemirror_mode": {
    "name": "ipython",
    "version": 3
   },
   "file_extension": ".py",
   "mimetype": "text/x-python",
   "name": "python",
   "nbconvert_exporter": "python",
   "pygments_lexer": "ipython3",
   "version": "3.11.10"
  }
 },
 "nbformat": 4,
 "nbformat_minor": 2
}
