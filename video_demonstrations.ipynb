{
 "cells": [
  {
   "cell_type": "code",
   "execution_count": null,
   "metadata": {},
   "outputs": [],
   "source": [
    "%load_ext autoreload\n",
    "%autoreload 2\n",
    "\n",
    "import dill\n",
    "import numpy as np\n",
    "from pydrake.geometry import StartMeshcat\n",
    "\n",
    "from iiwa_batter import PACKAGE_ROOT, CONTROL_DT, PITCH_DT, CONTACT_DT, BLENDER_DT, NUM_JOINTS\n",
    "from iiwa_batter.robot_constraints.get_joint_constraints import JOINT_CONSTRAINTS\n",
    "from iiwa_batter.physics import find_ball_initial_velocity, PITCH_START_POSITION\n",
    "\n",
    "from iiwa_batter.swing_simulator import setup_simulator, run_swing_simulation, reset_systems\n",
    "from iiwa_batter.plotting import plot_joint_velocity\n",
    "\n",
    "from iiwa_batter.export_for_blender import export_keyframes"
   ]
  },
  {
   "cell_type": "code",
   "execution_count": null,
   "metadata": {},
   "outputs": [],
   "source": [
    "meshcat = StartMeshcat()"
   ]
  },
  {
   "cell_type": "code",
   "execution_count": null,
   "metadata": {},
   "outputs": [],
   "source": [
    "# Demonstration of the iiwa14 320 Nm joint able to spin up very fast\n",
    "\n",
    "simulator, diagram = setup_simulator(\n",
    "    torque_trajectory={0: np.array([320, 0, 0, 0, 0, 0, 0])},\n",
    "    model_urdf=\"iiwa14_joint_1_only\",\n",
    "    dt=PITCH_DT, \n",
    "    meshcat=meshcat, \n",
    "    add_contact=False, \n",
    ")\n",
    "\n",
    "status_dict = run_swing_simulation(\n",
    "    simulator=simulator,\n",
    "    diagram=diagram,\n",
    "    start_time=0,\n",
    "    end_time=1,\n",
    "    # MUST MATCH THE URDF!!!\n",
    "    initial_joint_positions=np.array([0, np.pi/2, 0, 0, 0, -np.pi/2, np.pi]),\n",
    "    initial_joint_velocities=np.array([0]*NUM_JOINTS),\n",
    "    initial_ball_position=PITCH_START_POSITION,\n",
    "    initial_ball_velocity=np.zeros(3),\n",
    "    meshcat=meshcat,\n",
    "    record_state=True,\n",
    "    check_dt=BLENDER_DT,\n",
    ")\n",
    "\n",
    "export_keyframes(status_dict, \"iiwa14_torque_demo_no_cap\")"
   ]
  },
  {
   "cell_type": "code",
   "execution_count": null,
   "metadata": {},
   "outputs": [],
   "source": [
    "# Demonstration of the iiwa14 320 Nm joint getting speed capped\n",
    "robot_constraints = JOINT_CONSTRAINTS[\"iiwa14\"]\n",
    "\n",
    "simulator, diagram = setup_simulator(\n",
    "    torque_trajectory={0: np.array([200, 0, 0, 0, 0, 0, 0])}, \n",
    "    model_urdf=\"iiwa14_joint_1_only\",\n",
    "    dt=PITCH_DT, \n",
    "    meshcat=meshcat, \n",
    "    add_contact=False, \n",
    "    robot_constraints=robot_constraints)\n",
    "\n",
    "results_dict = run_swing_simulation(\n",
    "    simulator=simulator,\n",
    "    diagram=diagram,\n",
    "    start_time=0,\n",
    "    end_time=0.2,\n",
    "    # MUST MATCH THE URDF!!!\n",
    "    initial_joint_positions=np.array([0, np.pi/2, 0, 0, 0, -np.pi/2, np.pi]),\n",
    "    initial_joint_velocities=np.array([0]*NUM_JOINTS),\n",
    "    initial_ball_position=PITCH_START_POSITION,\n",
    "    initial_ball_velocity=np.zeros(3),\n",
    "    meshcat=meshcat,\n",
    "    record_state = True\n",
    ")\n",
    "\n",
    "plot_joint_velocity(results_dict[\"state\"], robot_constraints, f\"{PACKAGE_ROOT}/../notebook_images/capped_velocity.png\")\n",
    "\n"
   ]
  },
  {
   "cell_type": "code",
   "execution_count": null,
   "metadata": {},
   "outputs": [],
   "source": [
    "# Demonstration of the iiwa14 40 Nm joint getting speed capped"
   ]
  },
  {
   "cell_type": "code",
   "execution_count": null,
   "metadata": {},
   "outputs": [],
   "source": [
    "# Demonstration of searching for initial positions\n",
    "robot_constraints = JOINT_CONSTRAINTS[\"iiwa14\"]\n",
    "simulator, diagram = setup_simulator(torque_trajectory={}, model_urdf=\"iiwa14\", dt=PITCH_DT, add_contact=True, meshcat=meshcat)\n",
    "import time\n",
    "\n",
    "from iiwa_batter.swing_optimization.stochastic_gradient_descent import find_initial_positions\n",
    "while True:\n",
    "    initial_joint_positions = find_initial_positions(simulator, diagram, robot_constraints, 1)\n",
    "\n",
    "    reset_systems(diagram)\n",
    "\n",
    "    run_swing_simulation(\n",
    "        simulator=simulator,\n",
    "        diagram=diagram,\n",
    "        start_time=0,\n",
    "        end_time=2*CONTACT_DT,\n",
    "        initial_joint_positions=np.array([0] * NUM_JOINTS),\n",
    "        initial_joint_velocities=np.array([0] * NUM_JOINTS),\n",
    "        initial_ball_position=PITCH_START_POSITION,\n",
    "        initial_ball_velocity=np.zeros(3),\n",
    "        meshcat=meshcat,\n",
    "    )\n",
    "    time.sleep(2)"
   ]
  }
 ],
 "metadata": {
  "kernelspec": {
   "display_name": ".venv",
   "language": "python",
   "name": "python3"
  },
  "language_info": {
   "codemirror_mode": {
    "name": "ipython",
    "version": 3
   },
   "file_extension": ".py",
   "mimetype": "text/x-python",
   "name": "python",
   "nbconvert_exporter": "python",
   "pygments_lexer": "ipython3",
   "version": "3.11.10"
  }
 },
 "nbformat": 4,
 "nbformat_minor": 2
}
