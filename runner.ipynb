{
 "cells": [
  {
   "cell_type": "code",
   "execution_count": 1,
   "metadata": {},
   "outputs": [],
   "source": [
    "%load_ext autoreload\n",
    "%autoreload 2\n",
    "\n",
    "from pydrake.geometry import StartMeshcat\n",
    "\n",
    "from iiwa_batter.tee_ball import run_tee_ball\n"
   ]
  },
  {
   "cell_type": "code",
   "execution_count": 2,
   "metadata": {},
   "outputs": [
    {
     "name": "stderr",
     "output_type": "stream",
     "text": [
      "INFO:drake:Meshcat listening for connections at http://localhost:7000\n"
     ]
    }
   ],
   "source": [
    "meshcat = StartMeshcat()"
   ]
  },
  {
   "cell_type": "code",
   "execution_count": 108,
   "metadata": {},
   "outputs": [
    {
     "name": "stderr",
     "output_type": "stream",
     "text": [
      "WARNING:drake:/home/zkeith/hackathon/iiwa-batter/iiwa_batter/assets/iiwa14_tee_ball.urdf:355: warning: Skipping transmission since it's attached to a fixed joint \"iiwa_joint_2\".\n",
      "WARNING:drake:/home/zkeith/hackathon/iiwa-batter/iiwa_batter/assets/iiwa14_tee_ball.urdf:368: warning: Skipping transmission since it's attached to a fixed joint \"iiwa_joint_3\".\n",
      "WARNING:drake:/home/zkeith/hackathon/iiwa-batter/iiwa_batter/assets/iiwa14_tee_ball.urdf:394: warning: Skipping transmission since it's attached to a fixed joint \"iiwa_joint_5\".\n",
      "WARNING:drake:/home/zkeith/hackathon/iiwa-batter/iiwa_batter/assets/iiwa14_tee_ball.urdf:407: warning: Skipping transmission since it's attached to a fixed joint \"iiwa_joint_6\".\n"
     ]
    },
    {
     "name": "stderr",
     "output_type": "stream",
     "text": [
      "WARNING:drake:/home/zkeith/hackathon/iiwa-batter/iiwa_batter/assets/iiwa14_tee_ball.urdf:355: warning: Skipping transmission since it's attached to a fixed joint \"iiwa_joint_2\".\n",
      "WARNING:drake:/home/zkeith/hackathon/iiwa-batter/iiwa_batter/assets/iiwa14_tee_ball.urdf:368: warning: Skipping transmission since it's attached to a fixed joint \"iiwa_joint_3\".\n",
      "WARNING:drake:/home/zkeith/hackathon/iiwa-batter/iiwa_batter/assets/iiwa14_tee_ball.urdf:394: warning: Skipping transmission since it's attached to a fixed joint \"iiwa_joint_5\".\n",
      "WARNING:drake:/home/zkeith/hackathon/iiwa-batter/iiwa_batter/assets/iiwa14_tee_ball.urdf:407: warning: Skipping transmission since it's attached to a fixed joint \"iiwa_joint_6\".\n"
     ]
    },
    {
     "name": "stdout",
     "output_type": "stream",
     "text": [
      "12.064720479023299\n"
     ]
    }
   ],
   "source": [
    "run_tee_ball(meshcat, record_time=1)"
   ]
  }
 ],
 "metadata": {
  "kernelspec": {
   "display_name": ".venv",
   "language": "python",
   "name": "python3"
  },
  "language_info": {
   "codemirror_mode": {
    "name": "ipython",
    "version": 3
   },
   "file_extension": ".py",
   "mimetype": "text/x-python",
   "name": "python",
   "nbconvert_exporter": "python",
   "pygments_lexer": "ipython3",
   "version": "3.12.3"
  }
 },
 "nbformat": 4,
 "nbformat_minor": 2
}
