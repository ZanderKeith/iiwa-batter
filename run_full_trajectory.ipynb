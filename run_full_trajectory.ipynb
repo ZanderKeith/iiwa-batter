{
 "cells": [
  {
   "cell_type": "code",
   "execution_count": null,
   "metadata": {},
   "outputs": [],
   "source": [
    "%load_ext autoreload\n",
    "%autoreload 2\n",
    "\n",
    "import json\n",
    "import numpy as np\n",
    "from pydrake.geometry import StartMeshcat\n",
    "\n",
    "from iiwa_batter import PACKAGE_ROOT, CONTROL_TIMESTEP\n",
    "from iiwa_batter.robot_constraints.get_joint_constraints import JOINT_CONSTRAINTS\n",
    "from iiwa_batter.physics import find_initial_velocity, PITCH_START_POSITION\n",
    "\n",
    "from iiwa_batter.swing_optimization.full_trajectory import run_full_trajectory"
   ]
  },
  {
   "cell_type": "code",
   "execution_count": null,
   "metadata": {},
   "outputs": [],
   "source": [
    "meshcat = StartMeshcat()"
   ]
  },
  {
   "cell_type": "code",
   "execution_count": null,
   "metadata": {},
   "outputs": [],
   "source": [
    "initial_velocity, time_of_flight = find_initial_velocity(90, [0, 0, 0.6])\n",
    "\n",
    "torque_trajectory = {0: np.array([0]*7)}\n",
    "robot_constraints = JOINT_CONSTRAINTS[\"kr6r900\"] \n",
    "\n",
    "run_full_trajectory(None, np.array([0]*7), [PITCH_START_POSITION, initial_velocity], time_of_flight, robot_constraints, torque_trajectory)"
   ]
  },
  {
   "cell_type": "code",
   "execution_count": null,
   "metadata": {},
   "outputs": [],
   "source": [
    "# Make a stochastic gradient descent optimization to find both the best initial position and the velocity trajectory\n",
    "np.random.seed(0)\n",
    "robot_constraints = JOINT_CONSTRAINTS[\"kr6r900\"] \n",
    "\n",
    "initial_velocity, time_of_flight = find_initial_velocity(90, [0, 0, 0.6])\n",
    "\n",
    "timesteps = np.arange(0, time_of_flight, CONTROL_TIMESTEP)\n",
    "\n",
    "def initialize_control_vector(robot_constraints, num_timesteps):\n",
    "    # First index is the initial position\n",
    "    # All the next ones are the control torques\n",
    "    num_joints = len(robot_constraints[\"torque\"])\n",
    "    control_vector = np.zeros(num_joints + num_timesteps*num_joints)\n",
    "\n",
    "    # Set the initial position\n",
    "    for i, joint in enumerate(robot_constraints[\"joint_range\"].values()):\n",
    "        control_vector[i] = np.random.uniform(joint[0], joint[1])\n",
    "\n",
    "    for t in range(num_timesteps):\n",
    "        for i, torque in enumerate(robot_constraints[\"torque\"].values()):\n",
    "            control_vector[num_joints + t*num_joints + i] = np.random.uniform(-torque, torque)\n",
    "\n",
    "    return control_vector\n",
    "\n",
    "control_vector = initialize_control_vector(robot_constraints, len(timesteps))\n",
    "\n",
    "def make_torque_trajectory(control_vector, robot_constraints, timesteps):\n",
    "    torque_trajectory = {}\n",
    "    for i, timestep in enumerate(timesteps):\n",
    "        torque_trajectory[timestep] = control_vector[len(robot_constraints[\"joint_range\"])*i:len(robot_constraints[\"joint_range\"])*(i+1)]\n",
    "    return torque_trajectory\n",
    "\n",
    "def stochastic_optimization(original_control_vector, robot_constraints, timesteps, learning_rate):\n",
    "    position_variance = 0.1 # About 1 degree\n",
    "    torque_variance= 1 # About 1% of the max torque\n",
    "\n",
    "    num_joints = len(robot_constraints[\"torque\"])\n",
    "\n",
    "    # Determine the loss from this control vector\n",
    "    torque_trajectory = make_torque_trajectory(original_control_vector, robot_constraints, timesteps)\n",
    "    original_reward = run_full_trajectory(None, original_control_vector[:num_joints], [PITCH_START_POSITION, initial_velocity], time_of_flight, robot_constraints, torque_trajectory)\n",
    "\n",
    "    # Perturb the control vector, ensuring that the joint constraints are still satisfied\n",
    "    perturbed_vector = np.empty_like(original_control_vector)\n",
    "    for i, joint in enumerate(robot_constraints[\"joint_range\"].values()):\n",
    "        perturbation = np.random.normal(0, position_variance)\n",
    "        capped_perturbation = np.clip(control_vector[i] + perturbation, joint[0], joint[1])\n",
    "        perturbed_vector[i] = capped_perturbation - original_control_vector[i]\n",
    "\n",
    "    for t in range(len(timesteps)):\n",
    "        for i, torque in enumerate(robot_constraints[\"torque\"].values()):\n",
    "            perturbation = np.random.normal(0, torque_variance)\n",
    "            capped_perturbation = np.clip(control_vector[num_joints + t*num_joints + i] + perturbation, -torque, torque)\n",
    "            perturbed_vector[num_joints + t*num_joints + i] = capped_perturbation - original_control_vector[num_joints + t*num_joints + i]\n",
    "\n",
    "    perturbed_control_vector = original_control_vector + perturbed_vector\n",
    "    perturbed_torque_trajectory = make_torque_trajectory(perturbed_control_vector, robot_constraints, timesteps)\n",
    "\n",
    "    perturbed_reward = run_full_trajectory(None, perturbed_control_vector[:num_joints], [PITCH_START_POSITION, initial_velocity], time_of_flight, robot_constraints, perturbed_torque_trajectory)\n",
    "\n",
    "    updated_control_vector = original_control_vector + learning_rate * (perturbed_reward - original_reward) * perturbed_vector\n",
    "\n",
    "    return updated_control_vector, original_reward, perturbed_reward - original_reward\n",
    "\n",
    "stochastic_optimization(control_vector, robot_constraints, timesteps, 0.1)\n",
    "\n",
    "\n"
   ]
  },
  {
   "cell_type": "code",
   "execution_count": null,
   "metadata": {},
   "outputs": [],
   "source": [
    "best_control_vector = control_vector\n",
    "best_reward = -np.inf\n",
    "rewards = []\n",
    "reward_differences = []\n",
    "for i in range(1000):\n",
    "    control_vector, reward, reward_difference = stochastic_optimization(control_vector, robot_constraints, timesteps, 0.1)\n",
    "    rewards.append(reward)\n",
    "    reward_differences.append(reward_difference)\n",
    "    if reward > best_reward:\n",
    "        best_control_vector = control_vector\n",
    "        best_reward = reward"
   ]
  },
  {
   "cell_type": "code",
   "execution_count": null,
   "metadata": {},
   "outputs": [],
   "source": [
    "print(best_reward)\n",
    "print(f\"Difference variance: {np.var(reward_differences)}\")\n",
    "import matplotlib.pyplot as plt\n",
    "\n",
    "# Plot rewards over iteration\n",
    "plt.plot(rewards)"
   ]
  }
 ],
 "metadata": {
  "kernelspec": {
   "display_name": ".venv",
   "language": "python",
   "name": "python3"
  },
  "language_info": {
   "codemirror_mode": {
    "name": "ipython",
    "version": 3
   },
   "file_extension": ".py",
   "mimetype": "text/x-python",
   "name": "python",
   "nbconvert_exporter": "python",
   "pygments_lexer": "ipython3",
   "version": "3.11.10"
  }
 },
 "nbformat": 4,
 "nbformat_minor": 2
}
